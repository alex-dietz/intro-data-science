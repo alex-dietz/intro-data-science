{
 "cells": [
  {
   "cell_type": "markdown",
   "metadata": {},
   "source": [
    "# <img style=\"float: left; padding-right: 10px; width: 200px\" src=\"https://raw.githubusercontent.com/trivikverma/researchgroup/master/assets/media/logo.png\"> EPA-1316A Introduction to *Urban* Data Science  \n",
    "\n",
    "\n",
    "## Homework 6: Clustering, spatial clustering, and geodemographics\n",
    "\n",
    "**TU Delft**<br>\n",
    "**Q1 2022**<br>\n",
    "**Instructor:** Trivik Verma <br>\n",
    "**TAs:** Auriane Técourt, Dorukhan Yeşilli, Ludovica Bindi, Nicolò Canal, Ruth Nelson, Vaibhavi Srivastava <br>\n",
    "**[Centre for Urban Science & Policy]( https://cusp.tbm.tudelft.nl/)** <br>\n",
    "\n",
    "\n",
    "---\n"
   ]
  },
  {
   "cell_type": "markdown",
   "metadata": {},
   "source": [
    "## Exercise: Geodemographics\n",
    "\n",
    "Reproduce with the components of the IMD for Liverpool and compare the output with the distribution of the IMD scores (the data is available in previous labs 4 and 5). This involves the following steps:\n",
    "\n",
    "* Read in the data.\n",
    "* Create a geodemographic classification for Liverpool using K-means and all the components of the IMD (income, employment, education, health, crime, and housing). This is composed of:\n",
    "    * Run K-means.\n",
    "    * Extract the labels.\n",
    "    * Plot the classes on a map.\n",
    "    * Compare the map obtained from the geodemographic classification with the distribution of the IMD scores.\n",
    "* Create a regionalization with the same attribute variables as for the geodemographic classification and producing 60 resulting observations. This will involve:\n",
    "    * Create the weights for the LSOA geography.\n",
    "    * Run the regionalisation algorithm (e.g. spatially constrained hierarchical clustering).\n",
    "    * Extract the labels and plot them on a map.\n",
    "    * Compare the resulting map with that of the MSOAs geography, which is available on the Census data pack under lab 02 datasets `lab-01/data/Liverpool/shapefiles/Liverpool_msoa11.shp`."
   ]
  }
 ],
 "metadata": {
  "kernelspec": {
   "display_name": "Python 3 (ipykernel)",
   "language": "python",
   "name": "python3"
  },
  "language_info": {
   "codemirror_mode": {
    "name": "ipython",
    "version": 3
   },
   "file_extension": ".py",
   "mimetype": "text/x-python",
   "name": "python",
   "nbconvert_exporter": "python",
   "pygments_lexer": "ipython3",
   "version": "3.9.12"
  }
 },
 "nbformat": 4,
 "nbformat_minor": 4
}
