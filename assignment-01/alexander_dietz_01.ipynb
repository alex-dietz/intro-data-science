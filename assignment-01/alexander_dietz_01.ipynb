{
 "cells": [
  {
   "cell_type": "markdown",
   "metadata": {},
   "source": [
    "# <img style=\"float: left; padding-right: 10px; width: 200px\" src=\"https://raw.githubusercontent.com/trivikverma/researchgroup/master/assets/media/logo.png\"> EPA-1316 Introduction to *Urban* Data Science \n",
    "\n",
    "\n",
    "## Assignment 1: Data Collection and Wrangling\n",
    "\n",
    "\n",
    "---\n",
    "\n"
   ]
  },
  {
   "cell_type": "markdown",
   "metadata": {},
   "source": [
    "# ``Instructions``\n",
    "\n",
    "This assignment puts together what you learned in **Weeks 1-2**. You will be working with a dataset which is in the form of a spreadsheet. It may contain many different data types in the columns. All data frames contain column names, which are strings, and row indices, which are integers. In this assignment you will illustrate your knwoledge about bundling various kinds of data together to be able to do higher-level tasks.\n",
    "\n",
    "_Note:_ Go through **labs and homeworks 00-02** before starting this assignment. \n",
    "\n",
    "#### 1.1 Submission\n",
    "\n",
    "Please submit the results by Brightspace under **Assignment 01**, using a single file as example,\n",
    "\n",
    "```text\n",
    "firstname_secondname_thirdname_lastname_01.html\n",
    "\n",
    "```\n",
    "\n",
    "**If your file is not named in lowercase letters as mentioned above, your assignment will not be read by the script that works to compile > 200 assignments and you will miss out on the grades. I don't want that, so be exceptionally careful that you name it properly. Don't worry if you spelled your name incorrectly. I want to avoid a situation where I have 200 assignments all called assignment_01.html**\n",
    "\n",
    "Please **do not** submit any data or files other than the ``html file``.\n",
    "\n",
    "#### 1.2 How do you convert to HTML? \n",
    "\n",
    "There are 2 ways, \n",
    "\n",
    "1. from a running notebook, you can convert it into html by clicking on the file tab on the main menu of Jupyter Lab \n",
    "    * File &rightarrow; Export Notebooks as... &rightarrow; Export Notebook to HTML\n",
    "2. go to terminal or command line and type\n",
    "    * ``jupyter nbconvert --to html <notebook_name>.ipynb  ``\n",
    "\n",
    "\n",
    "#### 1.3 Learning Objectives\n",
    "\n",
    "This assignment is designed to support three different learning objectives. After completing the following exercises you will be able to:\n",
    "\n",
    "* Explore variables in a dataset\n",
    "* Manage missing data \n",
    "* Reshape data to get it in a form useful for statistical analysis \n",
    "\n",
    "#### 1.4 Tasks\n",
    "\n",
    "This assignment requires you to go through five tasks in cleaning your data. \n",
    "\n",
    "1. Reading and Summarizing the Data.\n",
    "2. Subsetting the Data. This extracts just the part of the data you want to analyse. \n",
    "3. Manage Missing Data. Some data is not available for all objects of interest (rows) or all variables for every object (columns). \n",
    "4. Shape the Data. We need to convert the data into a suitable format for analysis. \n",
    "5. Saving the Results. The results are saved for future use."
   ]
  },
  {
   "cell_type": "markdown",
   "metadata": {},
   "source": [
    "<br/>\n",
    "\n",
    "***\n",
    "\n",
    "# ``Task 1: Downloading the Data``\n",
    "\n",
    "For this assignment we are going to use the World Development Indicators database as a source of data. The World Development Indicators is the primary data source for the World Bank, a financial institution that provides loans to developing nations for investment in national infrastructure. The database is comprised of data from officially recognized sources all over the world. The data consists of time series which in some cases dates back over fifty years. Nations are variously categorized into different groups in order to permit the comparative analysis of nations. \n",
    "\n",
    "You can download the data here as a csv file (It is intentional that I am not explicitly telling you where exactly you will find the csv file on this website):\n",
    "http://data.worldbank.org/data-catalog/world-development-indicators\n",
    "\n",
    "So after you unzip, we’ll work with the file ``WDIData.csv``, which is in a modified csv format. All the other files around it are informative and may be useful for you to do a better analyses. These extra files only provide more information on data sources of indicators used in the main file. Put the data in a convenient location on your computer or laptop, ideally in a folder called **data** which is next to this **jupyter notebook**. I recommend taking a look at the file in a text editor like _atom_ for any system or notepad++ for windows. These will also make your life easy for everything else on your computer. \n",
    "\n",
    "It’s a big file and it may take a while to load onto your laptop and into Python (running on the jupyter labs environment). \n",
    "\n",
    "The data is organized with one country and all the data for one indicator on each line. But there are many countries, and many indicators. Every indicator may have data reaching back from _1960_. These are all shown together on the same line. Because the data is replicated by country, the file is longer than it is wide. We call it “long” data. Thus, each country may be repeated on rows based on the indicator that is shown."
   ]
  },
  {
   "cell_type": "markdown",
   "metadata": {},
   "source": [
    "## ``Exercise: Downloading the Data``\n",
    "\n",
    "**IMPORTANT** make sure your code can run independent of the machine. i.e. \n",
    "- Use relative path links instead of absolute paths. If your data folder is named C:/HelloKitty/MyGummyBears/IlovePython/WDIData.csv, then your program will not be reproducible on any other machine. Check out this very easy to follow and handy guide on [relative paths](https://www.delftstack.com/howto/python/relative-path-in-python/).\n",
    "- Organise the data in a folder called `data` and run your notebook next to it organised as follows\n",
    "\n",
    "```text\n",
    "├── trivik_verma_01.ipynb\n",
    "├── data\n",
    "│   ├── WDIData.csv\n",
    "```\n",
    "\n",
    "- Load the `WDIData.csv` file into Python\n",
    "- Explore it by looking at first and last 5 rows\n",
    "- Programattically find and print information on the data,\n",
    "    - number of columns in the data\n",
    "    - names of the columns in the data \n",
    "    - number of rows in the data (excluding the header names)\n",
    "    - how many unique regions/countries in the data\n",
    "    - how many unique national indicators are in the data"
   ]
  },
  {
   "cell_type": "markdown",
   "metadata": {},
   "source": [
    "<hr>"
   ]
  },
  {
   "cell_type": "markdown",
   "metadata": {},
   "source": [
    "### 1.1 Import of necessary libraries and data\n",
    "    \n",
    "I import pandas, an open source library for data science, to analyze the data. As a next step, I use the read_csv function from pandas to read the data from the csv file. The data is obtained from the World Bank and contains information on the development of countries measured by different indicators and over time, starting as early as 1960. The csv file is saved in a data folder to make this notebook reproducible. The data was downloaded from here:\n",
    "http://data.worldbank.org/data-catalog/world-development-indicators\n"
   ]
  },
  {
   "cell_type": "code",
   "execution_count": 1,
   "metadata": {},
   "outputs": [],
   "source": [
    "#import pandas package and call it pd\n",
    "import pandas as pd"
   ]
  },
  {
   "cell_type": "code",
   "execution_count": 2,
   "metadata": {},
   "outputs": [],
   "source": [
    "# use panda's read_csv function to read the csv file and save it in wdi_data, which is a dataframe object\n",
    "wdi_data = pd.read_csv('data/WDIData.csv')"
   ]
  },
  {
   "cell_type": "markdown",
   "metadata": {},
   "source": [
    "### 1.2 Explore the data\n",
    "\n",
    "I want to get an overview of the data to get a better understanding of the structure. I use the following pandas functions and dataframe properties to do so:\n",
    "\n",
    " - head() --> provides the first five entries of the dataframe\n",
    " - tail() --> provides the last five entries of the dataframe\n",
    " - columns --> provides the name of all columns\n",
    " - shape --> provides the number of rows and columns of the dataframe\n",
    " - unique() --> provides the number of unique values in a column of the dataframe\n"
   ]
  },
  {
   "cell_type": "code",
   "execution_count": 3,
   "metadata": {},
   "outputs": [
    {
     "name": "stdout",
     "output_type": "stream",
     "text": [
      "                  Country Name Country Code  \\\n",
      "0  Africa Eastern and Southern          AFE   \n",
      "1  Africa Eastern and Southern          AFE   \n",
      "2  Africa Eastern and Southern          AFE   \n",
      "3  Africa Eastern and Southern          AFE   \n",
      "4  Africa Eastern and Southern          AFE   \n",
      "\n",
      "                                      Indicator Name     Indicator Code  1960  \\\n",
      "0  Access to clean fuels and technologies for coo...     EG.CFT.ACCS.ZS   NaN   \n",
      "1  Access to clean fuels and technologies for coo...  EG.CFT.ACCS.RU.ZS   NaN   \n",
      "2  Access to clean fuels and technologies for coo...  EG.CFT.ACCS.UR.ZS   NaN   \n",
      "3            Access to electricity (% of population)     EG.ELC.ACCS.ZS   NaN   \n",
      "4  Access to electricity, rural (% of rural popul...  EG.ELC.ACCS.RU.ZS   NaN   \n",
      "\n",
      "   1961  1962  1963  1964  1965  ...       2013       2014       2015  \\\n",
      "0   NaN   NaN   NaN   NaN   NaN  ...  16.936004  17.337896  17.687093   \n",
      "1   NaN   NaN   NaN   NaN   NaN  ...   6.499471   6.680066   6.859110   \n",
      "2   NaN   NaN   NaN   NaN   NaN  ...  37.855399  38.046781  38.326255   \n",
      "3   NaN   NaN   NaN   NaN   NaN  ...  31.794160  32.001027  33.871910   \n",
      "4   NaN   NaN   NaN   NaN   NaN  ...  18.663502  17.633986  16.464681   \n",
      "\n",
      "        2016       2017       2018       2019       2020  2021  Unnamed: 66  \n",
      "0  18.140971  18.491344  18.825520  19.272212  19.628009   NaN          NaN  \n",
      "1   7.016238   7.180364   7.322294   7.517191   7.651598   NaN          NaN  \n",
      "2  38.468426  38.670044  38.722783  38.927016  39.042839   NaN          NaN  \n",
      "3  38.880173  40.261358  43.061877  44.270860  45.803485   NaN          NaN  \n",
      "4  24.531436  25.345111  27.449908  29.641760  30.404935   NaN          NaN  \n",
      "\n",
      "[5 rows x 67 columns]\n"
     ]
    }
   ],
   "source": [
    "#print the first five entries\n",
    "print(wdi_data.head())\n"
   ]
  },
  {
   "cell_type": "code",
   "execution_count": 4,
   "metadata": {},
   "outputs": [
    {
     "name": "stdout",
     "output_type": "stream",
     "text": [
      "       Country Name Country Code  \\\n",
      "383567     Zimbabwe          ZWE   \n",
      "383568     Zimbabwe          ZWE   \n",
      "383569     Zimbabwe          ZWE   \n",
      "383570     Zimbabwe          ZWE   \n",
      "383571     Zimbabwe          ZWE   \n",
      "\n",
      "                                           Indicator Name     Indicator Code  \\\n",
      "383567  Women who believe a husband is justified in be...     SG.VAW.REFU.ZS   \n",
      "383568  Women who were first married by age 15 (% of w...  SP.M15.2024.FE.ZS   \n",
      "383569  Women who were first married by age 18 (% of w...  SP.M18.2024.FE.ZS   \n",
      "383570  Women's share of population ages 15+ living wi...  SH.DYN.AIDS.FE.ZS   \n",
      "383571  Young people (ages 15-24) newly infected with HIV     SH.HIV.INCD.YG   \n",
      "\n",
      "        1960  1961  1962  1963  1964  1965  ...     2013     2014     2015  \\\n",
      "383567   NaN   NaN   NaN   NaN   NaN   NaN  ...      NaN      NaN     14.5   \n",
      "383568   NaN   NaN   NaN   NaN   NaN   NaN  ...      NaN      NaN      3.7   \n",
      "383569   NaN   NaN   NaN   NaN   NaN   NaN  ...      NaN     33.5     32.4   \n",
      "383570   NaN   NaN   NaN   NaN   NaN   NaN  ...     59.2     59.4     59.5   \n",
      "383571   NaN   NaN   NaN   NaN   NaN   NaN  ...  18000.0  17000.0  15000.0   \n",
      "\n",
      "           2016     2017    2018         2019    2020  2021  Unnamed: 66  \n",
      "383567      NaN      NaN     NaN          NaN     NaN   NaN          NaN  \n",
      "383568      NaN      NaN     NaN     5.418352     NaN   NaN          NaN  \n",
      "383569      NaN      NaN     NaN    33.658057     NaN   NaN          NaN  \n",
      "383570     59.7     59.9    60.0    60.200000    60.4   NaN          NaN  \n",
      "383571  14000.0  12000.0  9700.0  9600.000000  7500.0   NaN          NaN  \n",
      "\n",
      "[5 rows x 67 columns]\n"
     ]
    }
   ],
   "source": [
    "#print the last five entries\n",
    "print(wdi_data.tail())"
   ]
  },
  {
   "cell_type": "markdown",
   "metadata": {},
   "source": [
    "This first structural analysis showed me that I have 67 columns, as the years are on the columns while the country-indicator combination describes each row. Furthermore, I already see some missing values in the data. Moreover, it is also clear that the data does not only include countries but also regions, as the first entries are for the region \"Africa Eastern and Southern\". For the countries I have the respective name and 3 digit code, which could be the ISO alpha-3 code. Each Indicator is also presented with a full name and a short name."
   ]
  },
  {
   "cell_type": "code",
   "execution_count": 5,
   "metadata": {},
   "outputs": [
    {
     "name": "stdout",
     "output_type": "stream",
     "text": [
      "Index(['Country Name', 'Country Code', 'Indicator Name', 'Indicator Code',\n",
      "       '1960', '1961', '1962', '1963', '1964', '1965', '1966', '1967', '1968',\n",
      "       '1969', '1970', '1971', '1972', '1973', '1974', '1975', '1976', '1977',\n",
      "       '1978', '1979', '1980', '1981', '1982', '1983', '1984', '1985', '1986',\n",
      "       '1987', '1988', '1989', '1990', '1991', '1992', '1993', '1994', '1995',\n",
      "       '1996', '1997', '1998', '1999', '2000', '2001', '2002', '2003', '2004',\n",
      "       '2005', '2006', '2007', '2008', '2009', '2010', '2011', '2012', '2013',\n",
      "       '2014', '2015', '2016', '2017', '2018', '2019', '2020', '2021',\n",
      "       'Unnamed: 66'],\n",
      "      dtype='object')\n"
     ]
    }
   ],
   "source": [
    "#print the names of the columns to get a better understanding\n",
    "print(wdi_data.columns)"
   ]
  },
  {
   "cell_type": "markdown",
   "metadata": {},
   "source": [
    "This output showed me that data was collected from 1960 to 2021 and confirmed my observations from the previous outputs. Furthermore, I want to know how many columns and rows my dataset has. Hence, I use the shape property to get these numbers as it returns a tuple of the number of rows and columns."
   ]
  },
  {
   "cell_type": "code",
   "execution_count": 6,
   "metadata": {},
   "outputs": [
    {
     "data": {
      "text/plain": [
       "383572"
      ]
     },
     "execution_count": 6,
     "metadata": {},
     "output_type": "execute_result"
    }
   ],
   "source": [
    "# To fully see the length of the dataframe, I print the number of rows\n",
    "(wdi_data.shape[0])"
   ]
  },
  {
   "cell_type": "code",
   "execution_count": 7,
   "metadata": {},
   "outputs": [
    {
     "data": {
      "text/plain": [
       "67"
      ]
     },
     "execution_count": 7,
     "metadata": {},
     "output_type": "execute_result"
    }
   ],
   "source": [
    "# print the number of columns\n",
    "(wdi_data.shape[1])"
   ]
  },
  {
   "cell_type": "markdown",
   "metadata": {},
   "source": [
    "As a next step, I use the unique() function to get the count of unique country codes and indicator codes."
   ]
  },
  {
   "cell_type": "code",
   "execution_count": 8,
   "metadata": {},
   "outputs": [
    {
     "name": "stdout",
     "output_type": "stream",
     "text": [
      "266\n"
     ]
    }
   ],
   "source": [
    "# identify the number of unique countries\n",
    "print(len(wdi_data['Country Code'].unique()))"
   ]
  },
  {
   "cell_type": "code",
   "execution_count": 9,
   "metadata": {},
   "outputs": [
    {
     "name": "stdout",
     "output_type": "stream",
     "text": [
      "1442\n"
     ]
    }
   ],
   "source": [
    "#identify the number of unique indicators\n",
    "print(len(wdi_data['Indicator Code'].unique()))"
   ]
  },
  {
   "cell_type": "markdown",
   "metadata": {},
   "source": [
    "This information showed me that each country has multiple rows as it is repeated for the indicators. \n",
    "\n",
    "I collected the following information:\n",
    "- number of columns in the data: 67\n",
    "- number of rows in the data: 383572\n",
    "- number of unique countries/regions: 266\n",
    "- number of unique indicators:  1442 \n",
    "\n",
    "<br>\n",
    "\n",
    "I notice that they are way more rows than columns. Together with the information I got on the names of the columns, I can conclude that the data is in a long format. This means that each row contains information on one country and one indicator. The data is not in a wide format, where each row contains information only one country and all indicators. This is important to know, because I might have to reshape the data later on. Hence, I want to know how many unique countries and indicators are in the data."
   ]
  },
  {
   "cell_type": "markdown",
   "metadata": {},
   "source": [
    "<br/>\n",
    "\n",
    "***\n",
    "\n",
    "# ``Task 2: Subsetting the Data``\n",
    "\n",
    "From now on we want a much smaller subset of this data. We have all the valid country information using the country code information in ``WDICountry.csv`` or in one of the columns of the main data itself. (Note that it is best practice to search using country codes and not real country names. Countries are known by many names by many different people and languages.) In the future, World Bank may change the datasets with new country names as the data collection efforts of orgs is not relevant to geopolitics. Hence, it is important to work with codes as opposed to names to make our analyses more reproducible across time.\n",
    "\n",
    "The file ``WDISeries.csv`` contains a description of all the indicator variables and their names. We won’t actually use this file in the analysis, but you will find it helpful in designing your own analysis. Your objectives for this assignment is to select **4-7 variables** for further exploratory statistics (more information later in exercises). \n",
    "\n",
    "For example, I can show you what I did, \n",
    "\n",
    "```text\n",
    "My hypothesis\n",
    "I’d like to examine world broadband access. For that reason I chose a broadband account variable. The data is organized by country. I want to control for the wealth, population, and land area of the country. I also have a hypothesis that more urban countries are more likely to have good broadband services. There are economies of scale when providing services to a large city. \n",
    "\n",
    "I hypothesize that larger countries have lesser access, since it is expensive to provide access over larger areas. On the contrary, countries with a lot of urban land area can take advantage of economies of scale resulting in relatively more broadband users concentrated in smaller zones within the country. We also hypothesize that wealthier countries have better broadband access, since there is a larger market to provide the newest services. A final variable which we add is rail lines. I hypothesize that broadband lines can take advantage of existing infrastructure right-of-ways, of which rail is a surrogate measure. Furthermore, the presence of rail lines may indicate other factors including a geography which is conclusive to physical development, and favourable institutional factors which promote high technology development. \n",
    "\n",
    "My choice of variables were, \n",
    "\n",
    "| Variable Name                 | Variable Code     |\n",
    "| ----------------------------- | ----------------- |\n",
    "| Fixed broadband subscriptions | IT.NET.BBND       |\n",
    "| GDP (current US$)             | NY.GDP.MKTP.CD    |\n",
    "| Population, total             | SP.POP.TOTL       |\n",
    "| Land area (sq. km)            | AG.LND.TOTL.K2    |\n",
    "| Urban land area (sq. km)      | AG.LND.TOTL.UR.K2 |\n",
    "| Rail lines (total route-km)   | IS.RRS.TOTL.KM    |\n",
    "\n",
    "```\n",
    "\n",
    "Recall that the data is organized with countries and variables on the rows, and years on the column. Using this table as a guide, I can now extract only those rows which contain these variable names, and throw out the great many other variables that I will not need. You are expected to do the same further down in the exercise. \n",
    "\n",
    "For now let’s set aside the added complexity of time series and dynamics. Our task is to select just one year with a lot of data for most countries."
   ]
  },
  {
   "cell_type": "markdown",
   "metadata": {},
   "source": [
    "## ``Exercise: Subsetting the Data``\n",
    "\n",
    "- state your hypothesis in a markdown cell as I showed in the example above (there is no single right hypothesis, you are free to make a **reasonable** choice for this task)\n",
    "- find the variables of interest for your hypothesis and mention them in the markdown cell (4-7 variables)\n",
    "- your dataframe would have greatly reduced in size and looks neater, show us what it looks like now using head() or something similar\n",
    "    - show some statistics like number or rows, columns, names of variables and unique countries etc.\n",
    "- you’ll see that your data contains values for many years of data, or perhaps NA (“not applicable”), if the country has failed to report its findings. \n",
    "- For now let’s set aside the added complexity of time series and dynamics. Our task is to select just one year with a lot of data for most countries.\n",
    "    - choose one year/column that you want to work with and drop the rest of the years. \n",
    "\n",
    "You can count the columns manually, but in a large data set like this it is accurate and convenient to let python calculate this for us. Get the index of relevant columns and store them in a variable. \n",
    "\n",
    "- when you do this for your own variables, you also will want to experiment to see which year you want to use. You might also choose to drop off some of your initial variable choices if they are poorly collected. \n",
    "- subset the data by creating a new dataframe only with ``your variables`` `[v1, v2, v3...]`"
   ]
  },
  {
   "cell_type": "markdown",
   "metadata": {},
   "source": [
    "<hr>"
   ]
  },
  {
   "cell_type": "markdown",
   "metadata": {},
   "source": [
    "\n",
    "### 2.1 My hypothesis\n",
    "\n",
    "I like to analyze the a population health index. Therefore, I choose life expectancy as a proxy as life expectancy provides me with the mortality over a lifespan and is recorded for a large number of countries and regions.\n",
    "I hypothesize that richer countries have a higher life expectancy as they have more resources and better infrastructure to provide health services. Hence, I include the country's wealth as a variable. I look at the UHC service coverage index, which states a score from 0 to 100 for essential health services (based on tracer interventions that include reproductive, maternal, newborn and child health, infectious diseases, noncommunicable diseases and service capacity and access). The higher the score the higher is the coverage for essential health services. Furthermore, I want to have the effect of diseases in my analysis. Hence, I include the number of tuberculosis incidence per 100,000 people. I except to have a low number in countries with a high life expectancy.\n",
    " I also hypothesize that countries with a better infrastructure and more resources, have a higher life expectancy. Hence, I include the number of hospital beds as a variable. \n",
    " My variables look as follows:\n",
    "<br>\n"
   ]
  },
  {
   "cell_type": "markdown",
   "metadata": {},
   "source": [
    "```\n",
    "| Variable Name                                             | Variable Code     |\n",
    "| -----------------------------                             | ----------------- |\n",
    "| life expectancy                                           | SP.DYN.LE00.IN    |\n",
    "| UHC service coverage index                                | SH.UHC.SRVS.CV.XD |\n",
    "| GDP (current US$)                                         | NY.GDP.MKTP.CD    |\n",
    "| Incidence of tuberculosis (per 100,000 people)            | SH.TBS.INCD       |\n",
    "| Hospital Beds (Per 1,000 People)                          | SH.MED.BEDS.ZS    |\n",
    "```"
   ]
  },
  {
   "cell_type": "markdown",
   "metadata": {},
   "source": [
    "### 2.2 Creating the subset\n",
    "\n",
    "To obtain my subset of the original dataset, I use a python list that contains the codes for the selected indicators. I choose the indicator codes as the World Bank might change the names of the indicators over time.\n",
    "Afterwards, I use this list of indicator codes together with pandas isin() function to create a subset which I save in the variable wdi_data_subset."
   ]
  },
  {
   "cell_type": "code",
   "execution_count": 10,
   "metadata": {},
   "outputs": [],
   "source": [
    "#List of selected indicators\n",
    "selected_variables = ['SP.DYN.LE00.IN','SH.UHC.SRVS.CV.XD','NY.GDP.MKTP.CD','SH.TBS.INCD','SH.MED.BEDS.ZS']\n",
    "#subset of the dataframe with only the selected indicators\n",
    "wdi_data_subset = wdi_data[wdi_data['Indicator Code'].isin(selected_variables)]\n"
   ]
  },
  {
   "cell_type": "markdown",
   "metadata": {},
   "source": [
    "### 2.3 Overview on subset\n",
    "\n",
    "To quickly check if the subset was created correctly, I use the head() function to display the first 5 rows of the subset."
   ]
  },
  {
   "cell_type": "code",
   "execution_count": 11,
   "metadata": {},
   "outputs": [
    {
     "name": "stdout",
     "output_type": "stream",
     "text": [
      "                     Country Name Country Code  \\\n",
      "467   Africa Eastern and Southern          AFE   \n",
      "558   Africa Eastern and Southern          AFE   \n",
      "605   Africa Eastern and Southern          AFE   \n",
      "697   Africa Eastern and Southern          AFE   \n",
      "1386  Africa Eastern and Southern          AFE   \n",
      "\n",
      "                                      Indicator Name     Indicator Code  \\\n",
      "467                                GDP (current US$)     NY.GDP.MKTP.CD   \n",
      "558                 Hospital beds (per 1,000 people)     SH.MED.BEDS.ZS   \n",
      "605   Incidence of tuberculosis (per 100,000 people)        SH.TBS.INCD   \n",
      "697          Life expectancy at birth, total (years)     SP.DYN.LE00.IN   \n",
      "1386                      UHC service coverage index  SH.UHC.SRVS.CV.XD   \n",
      "\n",
      "              1960          1961          1962          1963          1964  \\\n",
      "467   2.129059e+10  2.180847e+10  2.370702e+10  2.821004e+10  2.611879e+10   \n",
      "558   1.959677e+00           NaN           NaN           NaN           NaN   \n",
      "605            NaN           NaN           NaN           NaN           NaN   \n",
      "697   4.271605e+01  4.316694e+01  4.360399e+01  4.402562e+01  4.443272e+01   \n",
      "1386           NaN           NaN           NaN           NaN           NaN   \n",
      "\n",
      "              1965  ...          2013          2014          2015  \\\n",
      "467   2.968217e+10  ...  9.839370e+11  1.003679e+12  9.242525e+11   \n",
      "558            NaN  ...           NaN           NaN           NaN   \n",
      "605            NaN  ...           NaN           NaN           NaN   \n",
      "697   4.482692e+01  ...  6.095336e+01  6.164737e+01  6.225929e+01   \n",
      "1386           NaN  ...           NaN           NaN           NaN   \n",
      "\n",
      "              2016          2017          2018          2019          2020  \\\n",
      "467   8.823551e+11  1.020647e+12  9.910223e+11  9.975340e+11  9.216459e+11   \n",
      "558            NaN           NaN           NaN           NaN           NaN   \n",
      "605            NaN           NaN           NaN           NaN           NaN   \n",
      "697   6.278768e+01  6.324626e+01  6.364899e+01  6.400521e+01  6.432570e+01   \n",
      "1386           NaN           NaN           NaN           NaN           NaN   \n",
      "\n",
      "              2021  Unnamed: 66  \n",
      "467   1.082096e+12          NaN  \n",
      "558            NaN          NaN  \n",
      "605            NaN          NaN  \n",
      "697            NaN          NaN  \n",
      "1386           NaN          NaN  \n",
      "\n",
      "[5 rows x 67 columns]\n"
     ]
    }
   ],
   "source": [
    "#print the first five rows of the subset with head()\n",
    "print(wdi_data_subset.head())"
   ]
  },
  {
   "cell_type": "markdown",
   "metadata": {},
   "source": [
    "I see that the subset still contains 67 columns and also my selected indicators, as expected."
   ]
  },
  {
   "cell_type": "markdown",
   "metadata": {},
   "source": [
    "Furthermore, I want to get a quick overview of the new dataframe and thus, use pandas info() function to display the number of rows and columns, the column names and the data types of the columns, as well as the non-null value count for each column."
   ]
  },
  {
   "cell_type": "code",
   "execution_count": 12,
   "metadata": {},
   "outputs": [
    {
     "name": "stdout",
     "output_type": "stream",
     "text": [
      "<class 'pandas.core.frame.DataFrame'>\n",
      "Int64Index: 1330 entries, 467 to 383516\n",
      "Data columns (total 67 columns):\n",
      " #   Column          Non-Null Count  Dtype  \n",
      "---  ------          --------------  -----  \n",
      " 0   Country Name    1330 non-null   object \n",
      " 1   Country Code    1330 non-null   object \n",
      " 2   Indicator Name  1330 non-null   object \n",
      " 3   Indicator Code  1330 non-null   object \n",
      " 4   1960            534 non-null    float64\n",
      " 5   1961            375 non-null    float64\n",
      " 6   1962            377 non-null    float64\n",
      " 7   1963            376 non-null    float64\n",
      " 8   1964            376 non-null    float64\n",
      " 9   1965            394 non-null    float64\n",
      " 10  1966            394 non-null    float64\n",
      " 11  1967            398 non-null    float64\n",
      " 12  1968            403 non-null    float64\n",
      " 13  1969            403 non-null    float64\n",
      " 14  1970            584 non-null    float64\n",
      " 15  1971            418 non-null    float64\n",
      " 16  1972            419 non-null    float64\n",
      " 17  1973            420 non-null    float64\n",
      " 18  1974            422 non-null    float64\n",
      " 19  1975            504 non-null    float64\n",
      " 20  1976            429 non-null    float64\n",
      " 21  1977            428 non-null    float64\n",
      " 22  1978            430 non-null    float64\n",
      " 23  1979            430 non-null    float64\n",
      " 24  1980            563 non-null    float64\n",
      " 25  1981            509 non-null    float64\n",
      " 26  1982            469 non-null    float64\n",
      " 27  1983            464 non-null    float64\n",
      " 28  1984            472 non-null    float64\n",
      " 29  1985            541 non-null    float64\n",
      " 30  1986            502 non-null    float64\n",
      " 31  1987            514 non-null    float64\n",
      " 32  1988            514 non-null    float64\n",
      " 33  1989            537 non-null    float64\n",
      " 34  1990            661 non-null    float64\n",
      " 35  1991            568 non-null    float64\n",
      " 36  1992            557 non-null    float64\n",
      " 37  1993            582 non-null    float64\n",
      " 38  1994            561 non-null    float64\n",
      " 39  1995            570 non-null    float64\n",
      " 40  1996            602 non-null    float64\n",
      " 41  1997            570 non-null    float64\n",
      " 42  1998            567 non-null    float64\n",
      " 43  1999            563 non-null    float64\n",
      " 44  2000            1052 non-null   float64\n",
      " 45  2001            848 non-null    float64\n",
      " 46  2002            868 non-null    float64\n",
      " 47  2003            862 non-null    float64\n",
      " 48  2004            852 non-null    float64\n",
      " 49  2005            1096 non-null   float64\n",
      " 50  2006            896 non-null    float64\n",
      " 51  2007            878 non-null    float64\n",
      " 52  2008            874 non-null    float64\n",
      " 53  2009            888 non-null    float64\n",
      " 54  2010            1106 non-null   float64\n",
      " 55  2011            901 non-null    float64\n",
      " 56  2012            884 non-null    float64\n",
      " 57  2013            878 non-null    float64\n",
      " 58  2014            879 non-null    float64\n",
      " 59  2015            1077 non-null   float64\n",
      " 60  2016            868 non-null    float64\n",
      " 61  2017            1065 non-null   float64\n",
      " 62  2018            773 non-null    float64\n",
      " 63  2019            942 non-null    float64\n",
      " 64  2020            726 non-null    float64\n",
      " 65  2021            229 non-null    float64\n",
      " 66  Unnamed: 66     0 non-null      float64\n",
      "dtypes: float64(63), object(4)\n",
      "memory usage: 706.6+ KB\n",
      "None\n"
     ]
    }
   ],
   "source": [
    "print(wdi_data_subset.info())"
   ]
  },
  {
   "cell_type": "markdown",
   "metadata": {},
   "source": [
    "This output shows me that I have 1330 country-indicator pairs left for my analysis. Furthermore, I can already see that not for all these pairs data was reported in each year."
   ]
  },
  {
   "cell_type": "markdown",
   "metadata": {},
   "source": [
    "Moreover, I want to evaluate how many unique countries and indicators are left in my subset."
   ]
  },
  {
   "cell_type": "code",
   "execution_count": 13,
   "metadata": {},
   "outputs": [
    {
     "name": "stdout",
     "output_type": "stream",
     "text": [
      "266\n"
     ]
    }
   ],
   "source": [
    "# identify the number of unique countries\n",
    "print(len(wdi_data_subset['Country Code'].unique()))"
   ]
  },
  {
   "cell_type": "code",
   "execution_count": 14,
   "metadata": {},
   "outputs": [
    {
     "name": "stdout",
     "output_type": "stream",
     "text": [
      "5\n"
     ]
    }
   ],
   "source": [
    "# identify the number of unique countries\n",
    "print(len(wdi_data_subset['Indicator Code'].unique()))"
   ]
  },
  {
   "cell_type": "markdown",
   "metadata": {},
   "source": [
    "With these output I was able to confirm that I still have 266 unique countries/regions left and only my 5 selected indicators."
   ]
  },
  {
   "cell_type": "markdown",
   "metadata": {},
   "source": [
    "### 2.4 Selection of specific year\n",
    "\n",
    "As this analysis will not analyze the data for each country over time, I want to select only one year. To keep the highest level of quality for my analysis, I want to find out the year with the highest number of provided values. To do so, I use the pandas count() function to count the number of non-null values for each column. I then use the idxmax() function to find the column with the highest number of non-null values. I save the result in the variable year_with_most_values. As I want to exclude the first columns that are specific to countries and regions, I use the iloc[] function and look only from the 5th column onwards. I provide \":\" to the iloc function to get all rows."
   ]
  },
  {
   "cell_type": "code",
   "execution_count": 15,
   "metadata": {},
   "outputs": [
    {
     "data": {
      "text/plain": [
       "'2010'"
      ]
     },
     "execution_count": 15,
     "metadata": {},
     "output_type": "execute_result"
    }
   ],
   "source": [
    "#Year with most entries, only included year columns with iloc\n",
    "year_with_most_values = wdi_data_subset.iloc[:,5:].count().idxmax()\n",
    "year_with_most_values"
   ]
  },
  {
   "cell_type": "markdown",
   "metadata": {},
   "source": [
    "As I have identified the year with the most values, in this case 2010, I want to create a new dataframe that only contains this year. To do so, I use the pandas loc[] function to select all rows and only the columns on the country, indicator, and selected year. I save the result in the variable wdi_data_subset_for_selected_year."
   ]
  },
  {
   "cell_type": "code",
   "execution_count": 16,
   "metadata": {},
   "outputs": [],
   "source": [
    "#list with columns that I will need in the new dataframe\n",
    "relevant_columns = ['Country Name','Country Code','Indicator Name','Indicator Code',year_with_most_values]\n",
    "#create new dataframe with only the relevant columns and all rows\n",
    "wdi_data_subset_for_selected_year = wdi_data_subset.loc[:,relevant_columns]"
   ]
  },
  {
   "cell_type": "markdown",
   "metadata": {},
   "source": [
    "Now I want to see if my transformation worked and print the info() of my new dataframe."
   ]
  },
  {
   "cell_type": "code",
   "execution_count": 17,
   "metadata": {},
   "outputs": [
    {
     "name": "stdout",
     "output_type": "stream",
     "text": [
      "<class 'pandas.core.frame.DataFrame'>\n",
      "Int64Index: 1330 entries, 467 to 383516\n",
      "Data columns (total 5 columns):\n",
      " #   Column          Non-Null Count  Dtype  \n",
      "---  ------          --------------  -----  \n",
      " 0   Country Name    1330 non-null   object \n",
      " 1   Country Code    1330 non-null   object \n",
      " 2   Indicator Name  1330 non-null   object \n",
      " 3   Indicator Code  1330 non-null   object \n",
      " 4   2010            1106 non-null   float64\n",
      "dtypes: float64(1), object(4)\n",
      "memory usage: 62.3+ KB\n",
      "None\n"
     ]
    }
   ],
   "source": [
    "#Obtain overview on new created dataset using info()\n",
    "print(wdi_data_subset_for_selected_year.info())"
   ]
  },
  {
   "cell_type": "code",
   "execution_count": 18,
   "metadata": {},
   "outputs": [
    {
     "data": {
      "text/plain": [
       "(1330, 5)"
      ]
     },
     "execution_count": 18,
     "metadata": {},
     "output_type": "execute_result"
    }
   ],
   "source": [
    "wdi_data_subset_for_selected_year.shape"
   ]
  },
  {
   "cell_type": "markdown",
   "metadata": {},
   "source": [
    "With this output, I see that my new dataframe has 1330 rows, but I also notice that some values are missing in the 2010 column. This is due to the fact that not every country/region has reported a value for every indicator in 2010."
   ]
  },
  {
   "cell_type": "markdown",
   "metadata": {},
   "source": [
    "### 2.5 Checking Quality of Selected Indicators\n",
    "\n",
    "As a next step, I want to check the quality of each indicator for the selected year. I do so by counting the values for the selected year, in this case 2010. To do so, I use pandas groupby() function to group the dataframe by the indicator code and then use the count() function to count the number of non-null values for each indicator. I print the result to the console."
   ]
  },
  {
   "cell_type": "code",
   "execution_count": 19,
   "metadata": {},
   "outputs": [
    {
     "data": {
      "text/html": [
       "<div>\n",
       "<style scoped>\n",
       "    .dataframe tbody tr th:only-of-type {\n",
       "        vertical-align: middle;\n",
       "    }\n",
       "\n",
       "    .dataframe tbody tr th {\n",
       "        vertical-align: top;\n",
       "    }\n",
       "\n",
       "    .dataframe thead th {\n",
       "        text-align: right;\n",
       "    }\n",
       "</style>\n",
       "<table border=\"1\" class=\"dataframe\">\n",
       "  <thead>\n",
       "    <tr style=\"text-align: right;\">\n",
       "      <th></th>\n",
       "      <th></th>\n",
       "      <th>2010</th>\n",
       "    </tr>\n",
       "    <tr>\n",
       "      <th>Indicator Code</th>\n",
       "      <th>Indicator Name</th>\n",
       "      <th></th>\n",
       "    </tr>\n",
       "  </thead>\n",
       "  <tbody>\n",
       "    <tr>\n",
       "      <th>NY.GDP.MKTP.CD</th>\n",
       "      <th>GDP (current US$)</th>\n",
       "      <td>256</td>\n",
       "    </tr>\n",
       "    <tr>\n",
       "      <th>SP.DYN.LE00.IN</th>\n",
       "      <th>Life expectancy at birth, total (years)</th>\n",
       "      <td>248</td>\n",
       "    </tr>\n",
       "    <tr>\n",
       "      <th>SH.TBS.INCD</th>\n",
       "      <th>Incidence of tuberculosis (per 100,000 people)</th>\n",
       "      <td>227</td>\n",
       "    </tr>\n",
       "    <tr>\n",
       "      <th>SH.UHC.SRVS.CV.XD</th>\n",
       "      <th>UHC service coverage index</th>\n",
       "      <td>204</td>\n",
       "    </tr>\n",
       "    <tr>\n",
       "      <th>SH.MED.BEDS.ZS</th>\n",
       "      <th>Hospital beds (per 1,000 people)</th>\n",
       "      <td>171</td>\n",
       "    </tr>\n",
       "  </tbody>\n",
       "</table>\n",
       "</div>"
      ],
      "text/plain": [
       "                                                                  2010\n",
       "Indicator Code    Indicator Name                                      \n",
       "NY.GDP.MKTP.CD    GDP (current US$)                                256\n",
       "SP.DYN.LE00.IN    Life expectancy at birth, total (years)          248\n",
       "SH.TBS.INCD       Incidence of tuberculosis (per 100,000 people)   227\n",
       "SH.UHC.SRVS.CV.XD UHC service coverage index                       204\n",
       "SH.MED.BEDS.ZS    Hospital beds (per 1,000 people)                 171"
      ]
     },
     "execution_count": 19,
     "metadata": {},
     "output_type": "execute_result"
    }
   ],
   "source": [
    "# display count of values for each indicator\n",
    "wdi_data_subset_for_selected_year.loc[:,['Indicator Code','Indicator Name',year_with_most_values]].groupby(['Indicator Code','Indicator Name']).count().sort_values(by=year_with_most_values,ascending=False)"
   ]
  },
  {
   "cell_type": "markdown",
   "metadata": {},
   "source": [
    "With this output, I can easily see that for my selected year 2010, 256 countries/regions have reported a value for the GDP, a vast majority of the available 266. While only 171 have reported on the number of Hospital beds. These information will be important when I want to adapt any kind of missing data to prepare it for further analysis."
   ]
  },
  {
   "cell_type": "markdown",
   "metadata": {},
   "source": [
    "<br/>\n",
    "\n",
    "***\n",
    "\n",
    "# ``Task 3: Reshape the Data``\n",
    "\n",
    "As you may have noticed from your outputs above, the data is still not  in a form which is suitable for statistical analysis. Every row is a a combination of a country, a few variables, and a year. We’d like each row instead to be a country, and for there to be many columns according to the variables involved. \n",
    "\n",
    "The data is stored with one country and one variable by year. That’s long data. We want to convert it so each row is a case, and that case is a country. Then each column can store the variables for that country. That’s wide data. Our objectives in this section is to convert from one format of the data to the other. For the purposes of this assignment we’re not going to handle time series data, even though the World Development Indicators data often has many years of time history collected for each of the nations. That's why I asked you to select a particular year only.\n",
    "\n",
    "You might ask why the original data was even stored in this manner. The most efficient means of storing data is to store everything once and then not repeat it. So for instance each element of this data set might be a combination of a country, variable and year. Any additional information, like the full and official name of the country, could be stored in a supplementary table and consulted only at need. \n",
    "\n",
    "That’s the most efficient way. But every user and application is slightly different. As noted above, typically what we need for statistical analysis is a single case on each row, and a set of variables in the columns. Our case is a country, and our variables are things like GDP and population as described above in my example choice of variables. This involves some restructuring of the data which we clearly don’t want to do by hand. Pandas is your best friend here. \n",
    "\n",
    "Reshaping data is a two-step process of melting and pivoting the data. Melting the data involves describing which data are indicators (\"id\") and which are variables for retrieval (“measure”). In this case your data may already be in melted form (long form). Pivoting then involves actually reshaping the data into the needed format. In this step, you have to reshape the data from long to wide format.\n",
    " \n",
    "Pivoting the data involves specifying what data is on the rows and on the columns. Hint: functions melt and pivot offered by ``numpy`` library in python. For our analyses we want “Country.Code” to be on the rows, and to have all 4-7 variables as columns, where the value of each cell is the value taken from the column year that you chose at the subsetting step.\n",
    "\n"
   ]
  },
  {
   "cell_type": "markdown",
   "metadata": {},
   "source": [
    "## ``Exercise: Reshape the Data``\n",
    "\n",
    "- Examine the dimensions of the new pivoted data that you have created. Show it to us using head or print commands.\n",
    "- Then rename all column names to something better and useful, by replacing codes with their names or shorthand names (ex. AG.LND.TOTL.UR.K2 ---> Urban Land Area).  \n",
    "- Sort the data by putting higher values for one indicator of your choice go first. If there are overlapping values, try to put chronological countries go first."
   ]
  },
  {
   "cell_type": "markdown",
   "metadata": {},
   "source": [
    "<hr>"
   ]
  },
  {
   "cell_type": "markdown",
   "metadata": {},
   "source": [
    "\n",
    "### 3.1 Reshape the Data\n",
    "\n",
    "As the next step, I decided to reshape my data first, before I look at any missing data. Having the indicators on the columns will simplify the process of looking for missing data. Furthermore, it is easier to look for missing data in a wide format, as I can use the pandas isnull() function to check for missing values in each column."
   ]
  },
  {
   "cell_type": "code",
   "execution_count": 20,
   "metadata": {},
   "outputs": [
    {
     "name": "stdout",
     "output_type": "stream",
     "text": [
      "(266, 5)\n",
      "Indicator Code                            NY.GDP.MKTP.CD  SH.MED.BEDS.ZS  \\\n",
      "Country Code Country Name                                                  \n",
      "ABW          Aruba                          2.453631e+09             NaN   \n",
      "AFE          Africa Eastern and Southern    8.604783e+11             NaN   \n",
      "AFG          Afghanistan                    1.585668e+10            0.43   \n",
      "AFW          Africa Western and Central     5.915958e+11             NaN   \n",
      "AGO          Angola                         8.169956e+10             NaN   \n",
      "\n",
      "Indicator Code                            SH.TBS.INCD  SH.UHC.SRVS.CV.XD  \\\n",
      "Country Code Country Name                                                  \n",
      "ABW          Aruba                                6.8                NaN   \n",
      "AFE          Africa Eastern and Southern          NaN                NaN   \n",
      "AFG          Afghanistan                        189.0               28.0   \n",
      "AFW          Africa Western and Central           NaN                NaN   \n",
      "AGO          Angola                             384.0               32.0   \n",
      "\n",
      "Indicator Code                            SP.DYN.LE00.IN  \n",
      "Country Code Country Name                                 \n",
      "ABW          Aruba                             75.017000  \n",
      "AFE          Africa Eastern and Southern       58.470697  \n",
      "AFG          Afghanistan                       61.028000  \n",
      "AFW          Africa Western and Central        54.144307  \n",
      "AGO          Angola                            55.350000  \n"
     ]
    }
   ],
   "source": [
    "# create the pivoted dataframe bringing the indicator codes to the columns\n",
    "wdi_data_subset_for_selected_year_pivot = wdi_data_subset_for_selected_year.pivot(index=['Country Code','Country Name'], columns='Indicator Code', values=year_with_most_values)\n",
    "# display the first five rows of the pivoted dataframe\n",
    "print(wdi_data_subset_for_selected_year_pivot.shape)\n",
    "print(wdi_data_subset_for_selected_year_pivot.head())"
   ]
  },
  {
   "cell_type": "markdown",
   "metadata": {},
   "source": [
    "Looking at the output, I can see that I successfully moved the indicators to the columns of the dataframe and now have the desired dataframe shape. However, I also see that the column names are not very descriptive. Therefore, I want to rename the columns to something more meaningful. To do so, I use the pandas rename() function to rename the columns. I use the indicator names as the new column names. To do so, I save the indicator codes and their respective names in a dictionary, called indicator_code_to_text, having the codes as keys and the names as values. This way I can easily access the values with the keys during the renaming. I also use the inplace=True parameter to overwrite the existing dataframe."
   ]
  },
  {
   "cell_type": "code",
   "execution_count": 21,
   "metadata": {},
   "outputs": [
    {
     "data": {
      "text/plain": [
       "Index(['GDP (current US$)', 'Hospital beds (per 1,000 people)',\n",
       "       'Incidence of tuberculosis (per 100,000 people)',\n",
       "       'UHC service coverage index',\n",
       "       'Life expectancy at birth, total (years)'],\n",
       "      dtype='object', name='Indicator Code')"
      ]
     },
     "execution_count": 21,
     "metadata": {},
     "output_type": "execute_result"
    }
   ],
   "source": [
    "# save indicator names in dictionary\n",
    "indicator_code_to_text = {\n",
    "    'SP.DYN.LE00.IN': 'Life expectancy at birth, total (years)',\n",
    "    'SH.UHC.SRVS.CV.XD': 'UHC service coverage index',\n",
    "    'NY.GDP.MKTP.CD': 'GDP (current US$)',\n",
    "    'SH.TBS.INCD': 'Incidence of tuberculosis (per 100,000 people)',\n",
    "    'SE.PRM.CMPT.ZS': 'Primary completion rate, total (% of relevant age group) - World',\n",
    "    'SH.MED.BEDS.ZS': 'Hospital beds (per 1,000 people)',\n",
    "     'per_si_allsi.cov_pop_tot':'Coverage of social insurance programs (% of population)'\n",
    "}\n",
    "wdi_data_subset_for_selected_year_pivot = (wdi_data_subset_for_selected_year_pivot.rename(columns=indicator_code_to_text))\n",
    "#Call .columns to check renaming\n",
    "wdi_data_subset_for_selected_year_pivot.columns"
   ]
  },
  {
   "cell_type": "markdown",
   "metadata": {},
   "source": [
    "I checked the output and can see that the column names are now more descriptive and will make further analysis easier."
   ]
  },
  {
   "cell_type": "markdown",
   "metadata": {},
   "source": [
    "Next, I want to sort the rows by life expectancy, if two rows have the same value I will compare them by their country name. Sorting is possible with the sort_values function. "
   ]
  },
  {
   "cell_type": "code",
   "execution_count": 22,
   "metadata": {},
   "outputs": [
    {
     "data": {
      "text/html": [
       "<div>\n",
       "<style scoped>\n",
       "    .dataframe tbody tr th:only-of-type {\n",
       "        vertical-align: middle;\n",
       "    }\n",
       "\n",
       "    .dataframe tbody tr th {\n",
       "        vertical-align: top;\n",
       "    }\n",
       "\n",
       "    .dataframe thead th {\n",
       "        text-align: right;\n",
       "    }\n",
       "</style>\n",
       "<table border=\"1\" class=\"dataframe\">\n",
       "  <thead>\n",
       "    <tr style=\"text-align: right;\">\n",
       "      <th></th>\n",
       "      <th>Indicator Code</th>\n",
       "      <th>GDP (current US$)</th>\n",
       "      <th>Hospital beds (per 1,000 people)</th>\n",
       "      <th>Incidence of tuberculosis (per 100,000 people)</th>\n",
       "      <th>UHC service coverage index</th>\n",
       "      <th>Life expectancy at birth, total (years)</th>\n",
       "    </tr>\n",
       "    <tr>\n",
       "      <th>Country Code</th>\n",
       "      <th>Country Name</th>\n",
       "      <th></th>\n",
       "      <th></th>\n",
       "      <th></th>\n",
       "      <th></th>\n",
       "      <th></th>\n",
       "    </tr>\n",
       "  </thead>\n",
       "  <tbody>\n",
       "    <tr>\n",
       "      <th>HKG</th>\n",
       "      <th>Hong Kong SAR, China</th>\n",
       "      <td>2.286377e+11</td>\n",
       "      <td>NaN</td>\n",
       "      <td>81.0</td>\n",
       "      <td>NaN</td>\n",
       "      <td>82.978049</td>\n",
       "    </tr>\n",
       "    <tr>\n",
       "      <th>JPN</th>\n",
       "      <th>Japan</th>\n",
       "      <td>5.759072e+12</td>\n",
       "      <td>13.51</td>\n",
       "      <td>20.0</td>\n",
       "      <td>80.0</td>\n",
       "      <td>82.842683</td>\n",
       "    </tr>\n",
       "    <tr>\n",
       "      <th>MAC</th>\n",
       "      <th>Macao SAR, China</th>\n",
       "      <td>2.824186e+10</td>\n",
       "      <td>NaN</td>\n",
       "      <td>84.0</td>\n",
       "      <td>NaN</td>\n",
       "      <td>82.704000</td>\n",
       "    </tr>\n",
       "    <tr>\n",
       "      <th>CHE</th>\n",
       "      <th>Switzerland</th>\n",
       "      <td>6.034345e+11</td>\n",
       "      <td>5.19</td>\n",
       "      <td>7.5</td>\n",
       "      <td>83.0</td>\n",
       "      <td>82.246341</td>\n",
       "    </tr>\n",
       "    <tr>\n",
       "      <th>CYM</th>\n",
       "      <th>Cayman Islands</th>\n",
       "      <td>4.156991e+09</td>\n",
       "      <td>NaN</td>\n",
       "      <td>8.1</td>\n",
       "      <td>NaN</td>\n",
       "      <td>82.190244</td>\n",
       "    </tr>\n",
       "    <tr>\n",
       "      <th>...</th>\n",
       "      <th>...</th>\n",
       "      <td>...</td>\n",
       "      <td>...</td>\n",
       "      <td>...</td>\n",
       "      <td>...</td>\n",
       "      <td>...</td>\n",
       "    </tr>\n",
       "    <tr>\n",
       "      <th>DMA</th>\n",
       "      <th>Dominica</th>\n",
       "      <td>4.938259e+08</td>\n",
       "      <td>3.80</td>\n",
       "      <td>13.0</td>\n",
       "      <td>64.0</td>\n",
       "      <td>NaN</td>\n",
       "    </tr>\n",
       "    <tr>\n",
       "      <th>CUW</th>\n",
       "      <th>Curacao</th>\n",
       "      <td>NaN</td>\n",
       "      <td>NaN</td>\n",
       "      <td>3.9</td>\n",
       "      <td>NaN</td>\n",
       "      <td>NaN</td>\n",
       "    </tr>\n",
       "    <tr>\n",
       "      <th>VGB</th>\n",
       "      <th>British Virgin Islands</th>\n",
       "      <td>NaN</td>\n",
       "      <td>NaN</td>\n",
       "      <td>4.1</td>\n",
       "      <td>NaN</td>\n",
       "      <td>NaN</td>\n",
       "    </tr>\n",
       "    <tr>\n",
       "      <th>AND</th>\n",
       "      <th>Andorra</th>\n",
       "      <td>3.449926e+09</td>\n",
       "      <td>NaN</td>\n",
       "      <td>9.5</td>\n",
       "      <td>73.0</td>\n",
       "      <td>NaN</td>\n",
       "    </tr>\n",
       "    <tr>\n",
       "      <th>ASM</th>\n",
       "      <th>American Samoa</th>\n",
       "      <td>5.730000e+08</td>\n",
       "      <td>NaN</td>\n",
       "      <td>8.2</td>\n",
       "      <td>NaN</td>\n",
       "      <td>NaN</td>\n",
       "    </tr>\n",
       "  </tbody>\n",
       "</table>\n",
       "<p>266 rows × 5 columns</p>\n",
       "</div>"
      ],
      "text/plain": [
       "Indicator Code                       GDP (current US$)  \\\n",
       "Country Code Country Name                                \n",
       "HKG          Hong Kong SAR, China         2.286377e+11   \n",
       "JPN          Japan                        5.759072e+12   \n",
       "MAC          Macao SAR, China             2.824186e+10   \n",
       "CHE          Switzerland                  6.034345e+11   \n",
       "CYM          Cayman Islands               4.156991e+09   \n",
       "...                                                ...   \n",
       "DMA          Dominica                     4.938259e+08   \n",
       "CUW          Curacao                               NaN   \n",
       "VGB          British Virgin Islands                NaN   \n",
       "AND          Andorra                      3.449926e+09   \n",
       "ASM          American Samoa               5.730000e+08   \n",
       "\n",
       "Indicator Code                       Hospital beds (per 1,000 people)  \\\n",
       "Country Code Country Name                                               \n",
       "HKG          Hong Kong SAR, China                                 NaN   \n",
       "JPN          Japan                                              13.51   \n",
       "MAC          Macao SAR, China                                     NaN   \n",
       "CHE          Switzerland                                         5.19   \n",
       "CYM          Cayman Islands                                       NaN   \n",
       "...                                                               ...   \n",
       "DMA          Dominica                                            3.80   \n",
       "CUW          Curacao                                              NaN   \n",
       "VGB          British Virgin Islands                               NaN   \n",
       "AND          Andorra                                              NaN   \n",
       "ASM          American Samoa                                       NaN   \n",
       "\n",
       "Indicator Code                       Incidence of tuberculosis (per 100,000 people)  \\\n",
       "Country Code Country Name                                                             \n",
       "HKG          Hong Kong SAR, China                                              81.0   \n",
       "JPN          Japan                                                             20.0   \n",
       "MAC          Macao SAR, China                                                  84.0   \n",
       "CHE          Switzerland                                                        7.5   \n",
       "CYM          Cayman Islands                                                     8.1   \n",
       "...                                                                             ...   \n",
       "DMA          Dominica                                                          13.0   \n",
       "CUW          Curacao                                                            3.9   \n",
       "VGB          British Virgin Islands                                             4.1   \n",
       "AND          Andorra                                                            9.5   \n",
       "ASM          American Samoa                                                     8.2   \n",
       "\n",
       "Indicator Code                       UHC service coverage index  \\\n",
       "Country Code Country Name                                         \n",
       "HKG          Hong Kong SAR, China                           NaN   \n",
       "JPN          Japan                                         80.0   \n",
       "MAC          Macao SAR, China                               NaN   \n",
       "CHE          Switzerland                                   83.0   \n",
       "CYM          Cayman Islands                                 NaN   \n",
       "...                                                         ...   \n",
       "DMA          Dominica                                      64.0   \n",
       "CUW          Curacao                                        NaN   \n",
       "VGB          British Virgin Islands                         NaN   \n",
       "AND          Andorra                                       73.0   \n",
       "ASM          American Samoa                                 NaN   \n",
       "\n",
       "Indicator Code                       Life expectancy at birth, total (years)  \n",
       "Country Code Country Name                                                     \n",
       "HKG          Hong Kong SAR, China                                  82.978049  \n",
       "JPN          Japan                                                 82.842683  \n",
       "MAC          Macao SAR, China                                      82.704000  \n",
       "CHE          Switzerland                                           82.246341  \n",
       "CYM          Cayman Islands                                        82.190244  \n",
       "...                                                                      ...  \n",
       "DMA          Dominica                                                    NaN  \n",
       "CUW          Curacao                                                     NaN  \n",
       "VGB          British Virgin Islands                                      NaN  \n",
       "AND          Andorra                                                     NaN  \n",
       "ASM          American Samoa                                              NaN  \n",
       "\n",
       "[266 rows x 5 columns]"
      ]
     },
     "execution_count": 22,
     "metadata": {},
     "output_type": "execute_result"
    }
   ],
   "source": [
    "wdi_data_subset_for_selected_year_pivot = wdi_data_subset_for_selected_year_pivot.sort_values(ascending=False, by=['Life expectancy at birth, total (years)','Country Name'])\n",
    "wdi_data_subset_for_selected_year_pivot"
   ]
  },
  {
   "cell_type": "markdown",
   "metadata": {},
   "source": [
    "I see that my sort worked and Hong Kong had the highest life expectancy in 2010 with 82.98 years while I also see that some countries have not reported a value, e.g, Andorra. "
   ]
  },
  {
   "cell_type": "markdown",
   "metadata": {},
   "source": [
    "<br/>\n",
    "\n",
    "***\n",
    "\n",
    "# ``Task 4: Manage Missing Data``\n",
    "\n",
    "There is a lot of missing data. If you make the year on which you search too recent, many countries have not been able to report their data. If you make the year too long ago, the practice of administrative data collection had not yet taken hold. Countries did not know that collecting data would be a good thing; furthermore they have yet to back-fill their records. \n",
    "\n",
    "Why is data not available or missing in this dataset?\n",
    "The data availability for urbanisation is especially limited. The urbanisation variable in particular ``AG.LND.TOTL.UR.K2`` is only available per decade. The most recent populated data for this example variable is therefore 2010, in variable ``2010``.\n",
    "It’s quite possible that the World Bank is constructing estimates of urbanisation out of complex data sources such as satellite imagery. Regardless, it appears expensive to compute, and is therefore only offered every decade. \n",
    "\n",
    "We’ve got a number of ways in general of dealing with missing data. These involve\n",
    "\n",
    "1. Dropping off cases (or rows) in the data with any missing variables\n",
    "2. Excluding variables in the data with any missing data \n",
    "3. Selectively choosing indicators with only a limited amount of missing data\n",
    "4. Replacing missing variables with averages, or other representative values\n",
    "5. Creating a separate model to predict missing data\n",
    "\n",
    "In this assignment we are going to use a number of these strategies. We can certainly be dropping off cases (strategy one). I am loathe to drop off whole indicators. But we can, for example, choose a year for the indicator where most of the data is available (strategy three).\n",
    "\n",
    "Building a separate model to impute missing data, is often a good idea. But that requires a first working model before we even consider building a missing data model (and we haven't got there yet in this course); the working model and the missing data model are often constructed together. Note also that there are packages in Python which will construct a model of your data, and then impute missing values for you. You may or may not find these functions and packaging for modelling your data to be fully appropriate. Therefore treat these missing data models very seriously, and not as a black box. Models of missing data are as important, and deserve just as much care and caution as any other statistical model.  \n",
    "\n",
    "In the next section I discuss some specifics about how the data is currently formatted, and how we would like to have it formatted for analysis purposes. \n"
   ]
  },
  {
   "cell_type": "markdown",
   "metadata": {},
   "source": [
    "## ``Exercise: Manage Missing Data``\n",
    "\n",
    "We’ve got a number of ways in general of dealing with missing data. These involve\n",
    "\n",
    "1. Dropping off cases (or rows) in the data with any missing variables\n",
    "2. Excluding variables in the data with any missing data \n",
    "3. Selectively choosing indicators with only a limited amount of missing data\n",
    "4. Replacing missing variables with averages, or other representative values\n",
    "5. Creating a separate model to predict missing data\n",
    "\n",
    "- Count the missing values in each column\n",
    "- Manage the missing values (delete or replace values or leave them as they are) and briefly explain your choice for each column using comments or markdown text\n"
   ]
  },
  {
   "cell_type": "markdown",
   "metadata": {},
   "source": [
    "<hr>"
   ]
  },
  {
   "cell_type": "markdown",
   "metadata": {},
   "source": [
    "### 4.1 Evaluate Missing Data Sources"
   ]
  },
  {
   "cell_type": "markdown",
   "metadata": {},
   "source": [
    "As a first step I want to have an overview on the amount of missing data for my selected indicators. Hence, I use the pandas isnull() function to check for missing values in each column. I then use the pandas sum() function to count the number of missing values in each column. I use the pandas sort_values() function to sort the columns by the number of missing values. I use the ascending=False parameter to sort the columns in descending order. "
   ]
  },
  {
   "cell_type": "code",
   "execution_count": 23,
   "metadata": {},
   "outputs": [
    {
     "name": "stdout",
     "output_type": "stream",
     "text": [
      "Indicator Code\n",
      "Hospital beds (per 1,000 people)                  95\n",
      "UHC service coverage index                        62\n",
      "Incidence of tuberculosis (per 100,000 people)    39\n",
      "Life expectancy at birth, total (years)           18\n",
      "GDP (current US$)                                 10\n",
      "dtype: int64\n"
     ]
    }
   ],
   "source": [
    "# print number of missing values for each indicator\n",
    "print((wdi_data_subset_for_selected_year_pivot.isnull().sum()).sort_values(ascending=False))"
   ]
  },
  {
   "cell_type": "markdown",
   "metadata": {},
   "source": [
    "The last output provided me with the number of missing values per columns and I have sorted them in descending order. As a next step, I go thorugh the columns and decide what to do with the missing values. I will explain my choices in the following. I will mostly use describe() to get a statistical overview, and the loc function to identify the specific countries with missing data."
   ]
  },
  {
   "cell_type": "markdown",
   "metadata": {},
   "source": [
    "In case I want to visualize some data, I will use the package seaborn which provides a wide range of diagrams for any kind of data. I import it and give it the name sns."
   ]
  },
  {
   "cell_type": "code",
   "execution_count": 24,
   "metadata": {},
   "outputs": [],
   "source": [
    "import seaborn as sns"
   ]
  },
  {
   "cell_type": "markdown",
   "metadata": {},
   "source": [
    "### 4.2 Manage missing life expectancy data"
   ]
  },
  {
   "cell_type": "markdown",
   "metadata": {},
   "source": [
    "First, I will look into the missing values for life expectancy. To start off, I get a statistical overview with the describe() function."
   ]
  },
  {
   "cell_type": "code",
   "execution_count": 25,
   "metadata": {},
   "outputs": [
    {
     "name": "stdout",
     "output_type": "stream",
     "text": [
      "count    248.000000\n",
      "mean      70.077402\n",
      "std        8.592886\n",
      "min       45.100000\n",
      "25%       64.300500\n",
      "50%       72.045000\n",
      "75%       76.000433\n",
      "max       82.978049\n",
      "Name: Life expectancy at birth, total (years), dtype: float64\n"
     ]
    }
   ],
   "source": [
    "stats_overview_life_expectancy = wdi_data_subset_for_selected_year_pivot['Life expectancy at birth, total (years)'].describe()\n",
    "print(stats_overview_life_expectancy)\n"
   ]
  },
  {
   "cell_type": "markdown",
   "metadata": {},
   "source": [
    "I see that there is a conglomeration of data points between the 50% and 75% percentile. I want to have a detailed look on which countries are missing a value. Thus, I use a combination of loc and isna() to output a list of countries/regions with a missing value for the life expectancy in 2010."
   ]
  },
  {
   "cell_type": "code",
   "execution_count": 26,
   "metadata": {},
   "outputs": [
    {
     "data": {
      "text/plain": [
       "Country Code  Country Name             \n",
       "TUV           Tuvalu                      NaN\n",
       "TCA           Turks and Caicos Islands    NaN\n",
       "KNA           St. Kitts and Nevis         NaN\n",
       "SXM           Sint Maarten (Dutch part)   NaN\n",
       "SMR           San Marino                  NaN\n",
       "PLW           Palau                       NaN\n",
       "INX           Not classified              NaN\n",
       "MNP           Northern Mariana Islands    NaN\n",
       "NRU           Nauru                       NaN\n",
       "MCO           Monaco                      NaN\n",
       "MHL           Marshall Islands            NaN\n",
       "IMN           Isle of Man                 NaN\n",
       "GIB           Gibraltar                   NaN\n",
       "DMA           Dominica                    NaN\n",
       "CUW           Curacao                     NaN\n",
       "VGB           British Virgin Islands      NaN\n",
       "AND           Andorra                     NaN\n",
       "ASM           American Samoa              NaN\n",
       "Name: Life expectancy at birth, total (years), dtype: float64"
      ]
     },
     "execution_count": 26,
     "metadata": {},
     "output_type": "execute_result"
    }
   ],
   "source": [
    "wdi_data_subset_for_selected_year_pivot.loc[wdi_data_subset_for_selected_year_pivot['Life expectancy at birth, total (years)'].isna(), 'Life expectancy at birth, total (years)']"
   ]
  },
  {
   "cell_type": "markdown",
   "metadata": {},
   "source": [
    "I replace the values with the mean as I saw in the statistical overview that the mean is also close to the 50% and 75% percentile. Hence, I argue it is fair representation, yet, I will keep an eye of for these countries in later analysis. I will take into account that these assigned values might change the analysis for these countries."
   ]
  },
  {
   "cell_type": "code",
   "execution_count": 27,
   "metadata": {},
   "outputs": [],
   "source": [
    "\n",
    "wdi_data_subset_for_selected_year_pivot.loc[wdi_data_subset_for_selected_year_pivot['Life expectancy at birth, total (years)'].isna(), 'Life expectancy at birth, total (years)'] = wdi_data_subset_for_selected_year_pivot['Life expectancy at birth, total (years)'].describe().loc['25%']"
   ]
  },
  {
   "cell_type": "code",
   "execution_count": 28,
   "metadata": {},
   "outputs": [
    {
     "name": "stdout",
     "output_type": "stream",
     "text": [
      "Indicator Code\n",
      "Hospital beds (per 1,000 people)                  95\n",
      "UHC service coverage index                        62\n",
      "Incidence of tuberculosis (per 100,000 people)    39\n",
      "GDP (current US$)                                 10\n",
      "Life expectancy at birth, total (years)            0\n",
      "dtype: int64\n"
     ]
    }
   ],
   "source": [
    "print((wdi_data_subset_for_selected_year_pivot.isnull().sum()).sort_values(ascending=False))"
   ]
  },
  {
   "cell_type": "markdown",
   "metadata": {},
   "source": [
    "### 4.3 Managing missing GDP Data"
   ]
  },
  {
   "cell_type": "markdown",
   "metadata": {},
   "source": [
    "Next, I will look into the missing values for GDP. I once again get a statistical overview with describe() and print the list of the specific countries/regions that aremissing values."
   ]
  },
  {
   "cell_type": "code",
   "execution_count": 29,
   "metadata": {},
   "outputs": [
    {
     "name": "stdout",
     "output_type": "stream",
     "text": [
      "count    2.560000e+02\n",
      "mean     2.103776e+12\n",
      "std      7.265329e+12\n",
      "min      3.210420e+07\n",
      "25%      7.092576e+09\n",
      "50%      4.124795e+10\n",
      "75%      5.019140e+11\n",
      "max      6.659605e+13\n",
      "Name: GDP (current US$), dtype: float64\n"
     ]
    }
   ],
   "source": [
    "print(wdi_data_subset_for_selected_year_pivot['GDP (current US$)'].describe())"
   ]
  },
  {
   "cell_type": "code",
   "execution_count": 30,
   "metadata": {},
   "outputs": [
    {
     "data": {
      "text/plain": [
       "Country Code  Country Name             \n",
       "CHI           Channel Islands             NaN\n",
       "MAF           St. Martin (French part)    NaN\n",
       "PYF           French Polynesia            NaN\n",
       "PRK           Korea, Dem. People's Rep.   NaN\n",
       "SOM           Somalia                     NaN\n",
       "SXM           Sint Maarten (Dutch part)   NaN\n",
       "INX           Not classified              NaN\n",
       "GIB           Gibraltar                   NaN\n",
       "CUW           Curacao                     NaN\n",
       "VGB           British Virgin Islands      NaN\n",
       "Name: GDP (current US$), dtype: float64"
      ]
     },
     "execution_count": 30,
     "metadata": {},
     "output_type": "execute_result"
    }
   ],
   "source": [
    "wdi_data_subset_for_selected_year_pivot.loc[wdi_data_subset_for_selected_year_pivot['GDP (current US$)'].isna(), 'GDP (current US$)']"
   ]
  },
  {
   "cell_type": "markdown",
   "metadata": {},
   "source": [
    "Countries:            \n",
    "- CHI           Channel Islands\n",
    "- MAF           St. Martin (French part)\n",
    "- PYF           French Polynesia\n",
    "- PRK           Korea, Dem. People's Rep.\n",
    "- SOM           Somalia\n",
    "- SXM           Sint Maarten (Dutch part)\n",
    "- INX           Not classified\n",
    "- GIB           Gibraltar\n",
    "- CUW           Curacao\n",
    "- VGB           British Virgin Islands\n",
    "\n",
    "I notice that in my list I have two French overseas departments that are hence, not independent states but are part of France. I will therefore drop these two rows as their output is already include in the row for France. Curacao and Sint Maarten are part of the Kingdom of the Netherlands.\n",
    "The same goes for the Channel Islands and the British Virgin Islands, which are part of the United Kingdom. I will drop these rows as well. I will drop \"Not classified\" as without a clearlink to a country any data in that row will not help my analysis.\n",
    "I will also drop the row for the People's Republic of Korea as there is no data available and due to the political circumstances and the low level of accessible data, it is with uncertainty to estimate any kind of value for this country.\n",
    "For Somalia , I checked the World Bank website for the indicator and saw that Somalia didn't report any data between 1990 and 2013. I confirm this with a quick loc command that provides me the values specifically starting at 2005."
   ]
  },
  {
   "cell_type": "code",
   "execution_count": 31,
   "metadata": {},
   "outputs": [
    {
     "data": {
      "text/html": [
       "<div>\n",
       "<style scoped>\n",
       "    .dataframe tbody tr th:only-of-type {\n",
       "        vertical-align: middle;\n",
       "    }\n",
       "\n",
       "    .dataframe tbody tr th {\n",
       "        vertical-align: top;\n",
       "    }\n",
       "\n",
       "    .dataframe thead th {\n",
       "        text-align: right;\n",
       "    }\n",
       "</style>\n",
       "<table border=\"1\" class=\"dataframe\">\n",
       "  <thead>\n",
       "    <tr style=\"text-align: right;\">\n",
       "      <th></th>\n",
       "      <th>2005</th>\n",
       "      <th>2006</th>\n",
       "      <th>2007</th>\n",
       "      <th>2008</th>\n",
       "      <th>2009</th>\n",
       "      <th>2010</th>\n",
       "      <th>2011</th>\n",
       "      <th>2012</th>\n",
       "      <th>2013</th>\n",
       "      <th>2014</th>\n",
       "      <th>2015</th>\n",
       "      <th>2016</th>\n",
       "      <th>2017</th>\n",
       "      <th>2018</th>\n",
       "      <th>2019</th>\n",
       "      <th>2020</th>\n",
       "      <th>2021</th>\n",
       "      <th>Unnamed: 66</th>\n",
       "    </tr>\n",
       "  </thead>\n",
       "  <tbody>\n",
       "    <tr>\n",
       "      <th>324917</th>\n",
       "      <td>NaN</td>\n",
       "      <td>NaN</td>\n",
       "      <td>NaN</td>\n",
       "      <td>NaN</td>\n",
       "      <td>NaN</td>\n",
       "      <td>NaN</td>\n",
       "      <td>NaN</td>\n",
       "      <td>NaN</td>\n",
       "      <td>4.574496e+09</td>\n",
       "      <td>5.021956e+09</td>\n",
       "      <td>5.331761e+09</td>\n",
       "      <td>5.529873e+09</td>\n",
       "      <td>5.609000e+09</td>\n",
       "      <td>5.850677e+09</td>\n",
       "      <td>6.476675e+09</td>\n",
       "      <td>6.965285e+09</td>\n",
       "      <td>7.292722e+09</td>\n",
       "      <td>NaN</td>\n",
       "    </tr>\n",
       "  </tbody>\n",
       "</table>\n",
       "</div>"
      ],
      "text/plain": [
       "        2005  2006  2007  2008  2009  2010  2011  2012          2013  \\\n",
       "324917   NaN   NaN   NaN   NaN   NaN   NaN   NaN   NaN  4.574496e+09   \n",
       "\n",
       "                2014          2015          2016          2017          2018  \\\n",
       "324917  5.021956e+09  5.331761e+09  5.529873e+09  5.609000e+09  5.850677e+09   \n",
       "\n",
       "                2019          2020          2021  Unnamed: 66  \n",
       "324917  6.476675e+09  6.965285e+09  7.292722e+09          NaN  "
      ]
     },
     "execution_count": 31,
     "metadata": {},
     "output_type": "execute_result"
    }
   ],
   "source": [
    "wdi_data_subset.loc[(wdi_data_subset['Country Code']== 'SOM') & (wdi_data_subset['Indicator Code']== 'NY.GDP.MKTP.CD'),'2005':]"
   ]
  },
  {
   "cell_type": "markdown",
   "metadata": {},
   "source": [
    "Seeing that the next provided value was in 2013, I will replace the missing values with the value from 2013."
   ]
  },
  {
   "cell_type": "code",
   "execution_count": 32,
   "metadata": {},
   "outputs": [
    {
     "data": {
      "text/plain": [
       "Country Name\n",
       "Somalia    4.574496e+09\n",
       "Name: GDP (current US$), dtype: float64"
      ]
     },
     "execution_count": 32,
     "metadata": {},
     "output_type": "execute_result"
    }
   ],
   "source": [
    "#Set the value of 2010 to the value in 2013\n",
    "wdi_data_subset_for_selected_year_pivot.loc['SOM','GDP (current US$)'] = wdi_data_subset.loc[(wdi_data_subset['Country Code']== 'SOM') & (wdi_data_subset['Indicator Code']== 'NY.GDP.MKTP.CD'),'2013'].values[0]\n",
    "#Check if the value is set and not nan anymore\n",
    "wdi_data_subset_for_selected_year_pivot.loc['SOM','GDP (current US$)']"
   ]
  },
  {
   "cell_type": "markdown",
   "metadata": {},
   "source": [
    "I confirmed that the value was assigned correctly and will move to drop the remaining rows of missing data as previously discussed."
   ]
  },
  {
   "cell_type": "code",
   "execution_count": 33,
   "metadata": {},
   "outputs": [],
   "source": [
    "wdi_data_subset_for_selected_year_pivot = wdi_data_subset_for_selected_year_pivot[wdi_data_subset_for_selected_year_pivot['GDP (current US$)'].notna()]"
   ]
  },
  {
   "cell_type": "markdown",
   "metadata": {},
   "source": [
    "I want to check, if this was successful and therefore print the number of missing values again."
   ]
  },
  {
   "cell_type": "code",
   "execution_count": 34,
   "metadata": {},
   "outputs": [
    {
     "name": "stdout",
     "output_type": "stream",
     "text": [
      "Indicator Code\n",
      "Hospital beds (per 1,000 people)                  87\n",
      "UHC service coverage index                        54\n",
      "Incidence of tuberculosis (per 100,000 people)    35\n",
      "GDP (current US$)                                  0\n",
      "Life expectancy at birth, total (years)            0\n",
      "dtype: int64\n"
     ]
    }
   ],
   "source": [
    "print((wdi_data_subset_for_selected_year_pivot.isnull().sum()).sort_values(ascending=False))"
   ]
  },
  {
   "cell_type": "markdown",
   "metadata": {},
   "source": [
    "As expected I have no missing GDP values left and can now move on to fixing the missing values for the number of tuberculosis incidences."
   ]
  },
  {
   "cell_type": "markdown",
   "metadata": {},
   "source": [
    "### 4.4 Missing Incidence of tuberculosis (per 100,000 people)"
   ]
  },
  {
   "cell_type": "markdown",
   "metadata": {},
   "source": [
    "Next, I want to check the missing values for the Incidence of tuberculosis (per 100,000 people) indicator. First, I get a statistical overview on this column with .describe(). This way I can evaluate if it's feasible to replace the missing values with the mean or other percentiles."
   ]
  },
  {
   "cell_type": "code",
   "execution_count": 35,
   "metadata": {},
   "outputs": [
    {
     "data": {
      "text/plain": [
       "count     222.000000\n",
       "mean      135.665135\n",
       "std       205.394692\n",
       "min         0.000000\n",
       "25%        16.250000\n",
       "50%        53.000000\n",
       "75%       183.000000\n",
       "max      1590.000000\n",
       "Name: Incidence of tuberculosis (per 100,000 people), dtype: float64"
      ]
     },
     "execution_count": 35,
     "metadata": {},
     "output_type": "execute_result"
    }
   ],
   "source": [
    "wdi_data_subset_for_selected_year_pivot['Incidence of tuberculosis (per 100,000 people)'].describe()"
   ]
  },
  {
   "cell_type": "markdown",
   "metadata": {},
   "source": [
    "As the statistical overview gave a wide range of values, I decided to have a detailed look at the specific countries/regions that are missing values. I do that by filtering with .loc and having isna() as the condition. I then print the output to see the countries/regions that are missing values."
   ]
  },
  {
   "cell_type": "code",
   "execution_count": 36,
   "metadata": {},
   "outputs": [
    {
     "data": {
      "text/plain": [
       "Country Code  Country Name                                        \n",
       "LIE           Liechtenstein                                          NaN\n",
       "EMU           Euro area                                              NaN\n",
       "FRO           Faroe Islands                                          NaN\n",
       "PST           Post-demographic dividend                              NaN\n",
       "EUU           European Union                                         NaN\n",
       "OED           OECD members                                           NaN\n",
       "VIR           Virgin Islands (U.S.)                                  NaN\n",
       "CEB           Central Europe and the Baltics                         NaN\n",
       "LTE           Late-demographic dividend                              NaN\n",
       "TLA           Latin America & the Caribbean (IDA & IBRD countries)   NaN\n",
       "TEA           East Asia & Pacific (IDA & IBRD countries)             NaN\n",
       "CSS           Caribbean small states                                 NaN\n",
       "TMN           Middle East & North Africa (IDA & IBRD countries)      NaN\n",
       "TEC           Europe & Central Asia (IDA & IBRD countries)           NaN\n",
       "IBD           IBRD only                                              NaN\n",
       "ARB           Arab World                                             NaN\n",
       "XKX           Kosovo                                                 NaN\n",
       "IBT           IDA & IBRD total                                       NaN\n",
       "PSS           Pacific island small states                            NaN\n",
       "EAR           Early-demographic dividend                             NaN\n",
       "TSA           South Asia (IDA & IBRD)                                NaN\n",
       "SST           Small states                                           NaN\n",
       "OSS           Other small states                                     NaN\n",
       "IDX           IDA only                                               NaN\n",
       "LDC           Least developed countries: UN classification           NaN\n",
       "IDA           IDA total                                              NaN\n",
       "FCS           Fragile and conflict affected situations               NaN\n",
       "IDB           IDA blend                                              NaN\n",
       "HPC           Heavily indebted poor countries (HIPC)                 NaN\n",
       "AFE           Africa Eastern and Southern                            NaN\n",
       "TSS           Sub-Saharan Africa (IDA & IBRD countries)              NaN\n",
       "PRE           Pre-demographic dividend                               NaN\n",
       "SSD           South Sudan                                            NaN\n",
       "AFW           Africa Western and Central                             NaN\n",
       "IMN           Isle of Man                                            NaN\n",
       "Name: Incidence of tuberculosis (per 100,000 people), dtype: float64"
      ]
     },
     "execution_count": 36,
     "metadata": {},
     "output_type": "execute_result"
    }
   ],
   "source": [
    "wdi_data_subset_for_selected_year_pivot.loc[wdi_data_subset_for_selected_year_pivot['Incidence of tuberculosis (per 100,000 people)'].isna(), 'Incidence of tuberculosis (per 100,000 people)']"
   ]
  },
  {
   "cell_type": "markdown",
   "metadata": {},
   "source": [
    "Only recognized UN member states in this list:\n",
    "- Liechtenstein\n",
    "- South Sudan\n",
    "\n",
    "For Liechtenstein, I will replace the missing value with the value of the neighboring Switzerland, as both countries are high developed European countries, that have an outstanding healthcare system and hence, very low number of tubercoli cases. \n",
    "I will have to drop South Sudan, as the country was only founded in 2011. Therefore, I cannot include it in an analysis for the year 2010.\n",
    "All other countries or regions are not recognized as independent states by the United Nations or already included in the data of the other states and are therefore not included in the dataset.\n"
   ]
  },
  {
   "cell_type": "markdown",
   "metadata": {},
   "source": [
    "Replacing Liechtenstein value with Switzerland value by looking up the Swiss values in the original dataset:"
   ]
  },
  {
   "cell_type": "code",
   "execution_count": 37,
   "metadata": {},
   "outputs": [],
   "source": [
    "wdi_data_subset_for_selected_year_pivot.loc['LIE','Incidence of tuberculosis (per 100,000 people)'] = wdi_data_subset.loc[(wdi_data_subset['Country Code']== 'CHE') & (wdi_data_subset['Indicator Code']== 'SH.TBS.INCD'),'2010'].values[0]"
   ]
  },
  {
   "cell_type": "markdown",
   "metadata": {},
   "source": [
    "Dropping of the remaining nan values:"
   ]
  },
  {
   "cell_type": "code",
   "execution_count": 38,
   "metadata": {},
   "outputs": [],
   "source": [
    "wdi_data_subset_for_selected_year_pivot = wdi_data_subset_for_selected_year_pivot[wdi_data_subset_for_selected_year_pivot['Incidence of tuberculosis (per 100,000 people)'].notna()]\n"
   ]
  },
  {
   "cell_type": "markdown",
   "metadata": {},
   "source": [
    "I want to confirm again that I was successful and hence print the number of missing values for each column again"
   ]
  },
  {
   "cell_type": "code",
   "execution_count": 39,
   "metadata": {},
   "outputs": [
    {
     "name": "stdout",
     "output_type": "stream",
     "text": [
      "Indicator Code\n",
      "Hospital beds (per 1,000 people)                  69\n",
      "UHC service coverage index                        21\n",
      "GDP (current US$)                                  0\n",
      "Incidence of tuberculosis (per 100,000 people)     0\n",
      "Life expectancy at birth, total (years)            0\n",
      "dtype: int64\n"
     ]
    }
   ],
   "source": [
    "print((wdi_data_subset_for_selected_year_pivot.isnull().sum()).sort_values(ascending=False))"
   ]
  },
  {
   "cell_type": "markdown",
   "metadata": {},
   "source": [
    "I see that there are no missing values left for tuberculosis. I also want to see how many countries are left overall, hence, I quickly look at the shape of the remaining dataset."
   ]
  },
  {
   "cell_type": "code",
   "execution_count": 40,
   "metadata": {},
   "outputs": [
    {
     "data": {
      "text/plain": [
       "(223, 5)"
      ]
     },
     "execution_count": 40,
     "metadata": {},
     "output_type": "execute_result"
    }
   ],
   "source": [
    "wdi_data_subset_for_selected_year_pivot.shape"
   ]
  },
  {
   "cell_type": "markdown",
   "metadata": {},
   "source": [
    "I have 233 unique countries/regions and their respective indicators left for analysis."
   ]
  },
  {
   "cell_type": "markdown",
   "metadata": {},
   "source": [
    "### 4.5 Missing Hospital beds (per 1,000 people) Data"
   ]
  },
  {
   "cell_type": "markdown",
   "metadata": {},
   "source": [
    "Next, I will look into the missing data for the hospital beds. To get a better understanding of the distribution I use a histogram with the .displot() function of the seaborn package."
   ]
  },
  {
   "cell_type": "code",
   "execution_count": 41,
   "metadata": {},
   "outputs": [
    {
     "data": {
      "text/plain": [
       "<seaborn.axisgrid.FacetGrid at 0x112080ac0>"
      ]
     },
     "execution_count": 41,
     "metadata": {},
     "output_type": "execute_result"
    },
    {
     "data": {
      "image/png": "[encoded data removed]",
      "text/plain": [
       "<Figure size 500x500 with 1 Axes>"
      ]
     },
     "metadata": {},
     "output_type": "display_data"
    }
   ],
   "source": [
    "sns.displot(wdi_data_subset_for_selected_year_pivot['Hospital beds (per 1,000 people)'])"
   ]
  },
  {
   "cell_type": "markdown",
   "metadata": {},
   "source": [
    "I see that the data is skewed to the left and most values are below 3. I want to get the specific statistics and hence, use the describe() function for the mean and the percentiles."
   ]
  },
  {
   "cell_type": "code",
   "execution_count": 42,
   "metadata": {},
   "outputs": [
    {
     "data": {
      "text/plain": [
       "count    154.000000\n",
       "mean       3.301578\n",
       "std        2.379421\n",
       "min        0.100000\n",
       "25%        1.590000\n",
       "50%        2.730000\n",
       "75%        4.717500\n",
       "max       13.510000\n",
       "Name: Hospital beds (per 1,000 people), dtype: float64"
      ]
     },
     "execution_count": 42,
     "metadata": {},
     "output_type": "execute_result"
    }
   ],
   "source": [
    "wdi_data_subset_for_selected_year_pivot['Hospital beds (per 1,000 people)'].describe()"
   ]
  },
  {
   "cell_type": "markdown",
   "metadata": {},
   "source": [
    "To finally decide on how to handle the missing values, I will have a look at the specific countries/regions that are missing values. I do that by filtering with .loc and having isna() as the condition. I then print the output to see the countries/regions that are missing values."
   ]
  },
  {
   "cell_type": "code",
   "execution_count": 43,
   "metadata": {},
   "outputs": [
    {
     "data": {
      "text/plain": [
       "Country Code  Country Name            \n",
       "HKG           Hong Kong SAR, China       NaN\n",
       "MAC           Macao SAR, China           NaN\n",
       "CYM           Cayman Islands             NaN\n",
       "LIE           Liechtenstein              NaN\n",
       "SGP           Singapore                  NaN\n",
       "                                          ..\n",
       "SMR           San Marino                 NaN\n",
       "MNP           Northern Mariana Islands   NaN\n",
       "MCO           Monaco                     NaN\n",
       "AND           Andorra                    NaN\n",
       "ASM           American Samoa             NaN\n",
       "Name: Hospital beds (per 1,000 people), Length: 69, dtype: float64"
      ]
     },
     "execution_count": 43,
     "metadata": {},
     "output_type": "execute_result"
    }
   ],
   "source": [
    "countries_with_missing_hospital_bed_data = wdi_data_subset_for_selected_year_pivot.loc[wdi_data_subset_for_selected_year_pivot['Hospital beds (per 1,000 people)'].isna(), 'Hospital beds (per 1,000 people)']\n",
    "countries_with_missing_hospital_bed_data"
   ]
  },
  {
   "cell_type": "markdown",
   "metadata": {},
   "source": [
    "I notice that most countries are African or from South America. All of them can be seen as less developed countries therefore, I don't think it would be not accurate to replace the missing values with the mean or median value. I will first try to replace the values with the value of 2011, if it exists."
   ]
  },
  {
   "cell_type": "markdown",
   "metadata": {},
   "source": [
    "I loop through the countries and replace the missing values with the value of 2011. As the index in the for-loop is a tuple I will have to use index[0] to get the country code for the conditional loc function."
   ]
  },
  {
   "cell_type": "code",
   "execution_count": 44,
   "metadata": {},
   "outputs": [],
   "source": [
    "for index,country in countries_with_missing_hospital_bed_data.items():\n",
    "    wdi_data_subset_for_selected_year_pivot.loc[index[0],'Hospital beds (per 1,000 people)'] = wdi_data_subset.loc[(wdi_data_subset['Country Code']== index[0]) & (wdi_data_subset['Indicator Code']== 'SH.MED.BEDS.ZS'),'2011'].values[0]\n"
   ]
  },
  {
   "cell_type": "markdown",
   "metadata": {},
   "source": [
    "To see if this was successful, I will print the number of missing values again. "
   ]
  },
  {
   "cell_type": "code",
   "execution_count": 45,
   "metadata": {},
   "outputs": [
    {
     "data": {
      "text/plain": [
       "Country Code  Country Name                              \n",
       "HKG           Hong Kong SAR, China                         NaN\n",
       "MAC           Macao SAR, China                             NaN\n",
       "CYM           Cayman Islands                               NaN\n",
       "LIE           Liechtenstein                                NaN\n",
       "BMU           Bermuda                                      NaN\n",
       "PRI           Puerto Rico                                  NaN\n",
       "GUM           Guam                                         NaN\n",
       "NCL           New Caledonia                                NaN\n",
       "MDV           Maldives                                     NaN\n",
       "ABW           Aruba                                        NaN\n",
       "DZA           Algeria                                      NaN\n",
       "PSE           West Bank and Gaza                           NaN\n",
       "WSM           Samoa                                        NaN\n",
       "GRL           Greenland                                    NaN\n",
       "VUT           Vanuatu                                      NaN\n",
       "GUY           Guyana                                       NaN\n",
       "NPL           Nepal                                        NaN\n",
       "FSM           Micronesia, Fed. Sts.                        NaN\n",
       "SEN           Senegal                                      NaN\n",
       "MMR           Myanmar                                      NaN\n",
       "RWA           Rwanda                                       NaN\n",
       "MRT           Mauritania                                   NaN\n",
       "PNG           Papua New Guinea                             NaN\n",
       "HTI           Haiti                                        NaN\n",
       "COG           Congo, Rep.                                  NaN\n",
       "LIC           Low income                                   NaN\n",
       "COD           Congo, Dem. Rep.                             NaN\n",
       "SSF           Sub-Saharan Africa                           NaN\n",
       "SSA           Sub-Saharan Africa (excluding high income)   NaN\n",
       "NAM           Namibia                                      NaN\n",
       "AGO           Angola                                       NaN\n",
       "GNB           Guinea-Bissau                                NaN\n",
       "SOM           Somalia                                      NaN\n",
       "CIV           Cote d'Ivoire                                NaN\n",
       "NGA           Nigeria                                      NaN\n",
       "TCD           Chad                                         NaN\n",
       "SLE           Sierra Leone                                 NaN\n",
       "LSO           Lesotho                                      NaN\n",
       "TUV           Tuvalu                                       NaN\n",
       "TCA           Turks and Caicos Islands                     NaN\n",
       "MNP           Northern Mariana Islands                     NaN\n",
       "AND           Andorra                                      NaN\n",
       "ASM           American Samoa                               NaN\n",
       "Name: Hospital beds (per 1,000 people), dtype: float64"
      ]
     },
     "execution_count": 45,
     "metadata": {},
     "output_type": "execute_result"
    }
   ],
   "source": [
    "wdi_data_subset_for_selected_year_pivot.loc[wdi_data_subset_for_selected_year_pivot['Hospital beds (per 1,000 people)'].isna(), 'Hospital beds (per 1,000 people)']"
   ]
  },
  {
   "cell_type": "markdown",
   "metadata": {},
   "source": [
    "I want to see how many missing values are still left. Because of that, I use the shape property of my filtered dataframe and printthe number of rows."
   ]
  },
  {
   "cell_type": "code",
   "execution_count": 46,
   "metadata": {},
   "outputs": [
    {
     "data": {
      "text/plain": [
       "43"
      ]
     },
     "execution_count": 46,
     "metadata": {},
     "output_type": "execute_result"
    }
   ],
   "source": [
    "wdi_data_subset_for_selected_year_pivot.loc[wdi_data_subset_for_selected_year_pivot['Hospital beds (per 1,000 people)'].isna(), 'Hospital beds (per 1,000 people)'].shape[0]"
   ]
  },
  {
   "cell_type": "markdown",
   "metadata": {},
   "source": [
    "I can see that the number of missing values has decreased to 43 for the hospital beds. Now I check how the statistical overview might have changed."
   ]
  },
  {
   "cell_type": "code",
   "execution_count": 47,
   "metadata": {},
   "outputs": [
    {
     "data": {
      "text/plain": [
       "count    180.000000\n",
       "mean       3.181461\n",
       "std        2.513425\n",
       "min        0.100000\n",
       "25%        1.415000\n",
       "50%        2.465000\n",
       "75%        4.485000\n",
       "max       16.460000\n",
       "Name: Hospital beds (per 1,000 people), dtype: float64"
      ]
     },
     "execution_count": 47,
     "metadata": {},
     "output_type": "execute_result"
    }
   ],
   "source": [
    "wdi_data_subset_for_selected_year_pivot['Hospital beds (per 1,000 people)'].describe()"
   ]
  },
  {
   "cell_type": "markdown",
   "metadata": {},
   "source": [
    "I use the describe() function again to get a statistical overview on the data and decide to replace the remaining missing values with the value of the 25% percentile as the remaining countries are part of the less developed countries and hence, would probably have a low count on this indicator."
   ]
  },
  {
   "cell_type": "code",
   "execution_count": 48,
   "metadata": {},
   "outputs": [],
   "source": [
    "#using 25% as a key in the loc function to assign the values to the missing values\n",
    "wdi_data_subset_for_selected_year_pivot.loc[wdi_data_subset_for_selected_year_pivot['Hospital beds (per 1,000 people)'].isna(), 'Hospital beds (per 1,000 people)'] = wdi_data_subset_for_selected_year_pivot['Hospital beds (per 1,000 people)'].describe().loc['25%']"
   ]
  },
  {
   "cell_type": "markdown",
   "metadata": {},
   "source": [
    "I quickly check again if there are any missing values left and see that there are none."
   ]
  },
  {
   "cell_type": "code",
   "execution_count": 49,
   "metadata": {},
   "outputs": [
    {
     "name": "stdout",
     "output_type": "stream",
     "text": [
      "Indicator Code\n",
      "UHC service coverage index                        21\n",
      "GDP (current US$)                                  0\n",
      "Hospital beds (per 1,000 people)                   0\n",
      "Incidence of tuberculosis (per 100,000 people)     0\n",
      "Life expectancy at birth, total (years)            0\n",
      "dtype: int64\n"
     ]
    }
   ],
   "source": [
    "print((wdi_data_subset_for_selected_year_pivot.isnull().sum()).sort_values(ascending=False))"
   ]
  },
  {
   "cell_type": "markdown",
   "metadata": {},
   "source": [
    "I see that only UHC has missing values left which I now will look into detail."
   ]
  },
  {
   "cell_type": "markdown",
   "metadata": {},
   "source": [
    "### 4.6 UHC service coverage index "
   ]
  },
  {
   "cell_type": "markdown",
   "metadata": {},
   "source": [
    "As I expected I only have missing values remaining for the UHC service coverage index. Hence, I will start again to have a detailed look. Starting with the list of the remaining countries/regions that are missing values."
   ]
  },
  {
   "cell_type": "code",
   "execution_count": 50,
   "metadata": {},
   "outputs": [
    {
     "data": {
      "text/plain": [
       "Country Code  Country Name                                      \n",
       "HKG           Hong Kong SAR, China                                 NaN\n",
       "MAC           Macao SAR, China                                     NaN\n",
       "CYM           Cayman Islands                                       NaN\n",
       "LIE           Liechtenstein                                        NaN\n",
       "BMU           Bermuda                                              NaN\n",
       "PRI           Puerto Rico                                          NaN\n",
       "GUM           Guam                                                 NaN\n",
       "NCL           New Caledonia                                        NaN\n",
       "ABW           Aruba                                                NaN\n",
       "LAC           Latin America & Caribbean (excluding high income)    NaN\n",
       "EAP           East Asia & Pacific (excluding high income)          NaN\n",
       "PSE           West Bank and Gaza                                   NaN\n",
       "MNA           Middle East & North Africa (excluding high income)   NaN\n",
       "ECA           Europe & Central Asia (excluding high income)        NaN\n",
       "GRL           Greenland                                            NaN\n",
       "MIC           Middle income                                        NaN\n",
       "LMY           Low & middle income                                  NaN\n",
       "SSA           Sub-Saharan Africa (excluding high income)           NaN\n",
       "TCA           Turks and Caicos Islands                             NaN\n",
       "MNP           Northern Mariana Islands                             NaN\n",
       "ASM           American Samoa                                       NaN\n",
       "Name: UHC service coverage index, dtype: float64"
      ]
     },
     "execution_count": 50,
     "metadata": {},
     "output_type": "execute_result"
    }
   ],
   "source": [
    "wdi_data_subset_for_selected_year_pivot.loc[wdi_data_subset_for_selected_year_pivot['UHC service coverage index'].isna(), 'UHC service coverage index']"
   ]
  },
  {
   "cell_type": "markdown",
   "metadata": {},
   "source": [
    "I also want to have a quick statistical overview on the data. I use the describe() function to get the mean and the percentiles."
   ]
  },
  {
   "cell_type": "code",
   "execution_count": 51,
   "metadata": {},
   "outputs": [
    {
     "data": {
      "text/plain": [
       "count    202.000000\n",
       "mean      58.294821\n",
       "std       16.129260\n",
       "min       20.000000\n",
       "25%       45.000000\n",
       "50%       60.500000\n",
       "75%       70.101306\n",
       "max       84.000000\n",
       "Name: UHC service coverage index, dtype: float64"
      ]
     },
     "execution_count": 51,
     "metadata": {},
     "output_type": "execute_result"
    }
   ],
   "source": [
    "wdi_data_subset_for_selected_year_pivot['UHC service coverage index'].describe()"
   ]
  },
  {
   "cell_type": "markdown",
   "metadata": {},
   "source": [
    "I notice that only Liechtenstein is an actual UN member state in this list, all other states or regions are already counted into other rows. I will replace the missing value for Liechtenstein with the value of the neighboring Switzerland, as both countries are high developed European countries, that have an outstanding healthcare system and hence, should have very high UHC service coverage index."
   ]
  },
  {
   "cell_type": "code",
   "execution_count": 52,
   "metadata": {},
   "outputs": [],
   "source": [
    "wdi_data_subset_for_selected_year_pivot.loc['LIE','UHC service coverage index'] = wdi_data_subset.loc[(wdi_data_subset['Country Code']== 'CHE') & (wdi_data_subset['Indicator Code']== 'SH.UHC.SRVS.CV.XD'),'2010'].values[0]"
   ]
  },
  {
   "cell_type": "markdown",
   "metadata": {},
   "source": [
    "As the other countries and regions are not recognized as independent states by the United Nations, I will drop the rows with missing values for the UHC service coverage index because I cannot assume for these partly completely different regions to have values that are close to the mean or any percentile. Any assigned value would heavily distort the data for further analysis."
   ]
  },
  {
   "cell_type": "code",
   "execution_count": 53,
   "metadata": {},
   "outputs": [],
   "source": [
    "wdi_data_subset_for_selected_year_pivot = wdi_data_subset_for_selected_year_pivot[wdi_data_subset_for_selected_year_pivot['UHC service coverage index'].notna()]"
   ]
  },
  {
   "cell_type": "markdown",
   "metadata": {},
   "source": [
    "I want to have a final overview on the amount of data that is left for further analysis. Thus, I use the shape function to get the rows and columns of my dataframe."
   ]
  },
  {
   "cell_type": "code",
   "execution_count": 54,
   "metadata": {},
   "outputs": [
    {
     "data": {
      "text/plain": [
       "(203, 5)"
      ]
     },
     "execution_count": 54,
     "metadata": {},
     "output_type": "execute_result"
    }
   ],
   "source": [
    "wdi_data_subset_for_selected_year_pivot.shape"
   ]
  },
  {
   "cell_type": "markdown",
   "metadata": {},
   "source": [
    "As seen in the previous output, I have 203 countries left for my 5 indicators. I believe this is a sufficient amount of data to continue with my analysis seeing that the UN has 193 member states and 2 oberservers."
   ]
  },
  {
   "cell_type": "markdown",
   "metadata": {},
   "source": [
    "<br/>\n",
    "\n",
    "***\n",
    "\n",
    "# ``Task 5: Saving the Results``\n",
    "\n",
    "_Note:_ We do not need this file but we expect that if you learn how to save your data, it will be very useful in the future, as you do not need to run the script to clean your data again. \n",
    "\n",
    "## ``Exercise: Saving the Results``\n",
    "- Save the cleaned dataframe as 'assignment-01-cleaned.csv' in data folder\n"
   ]
  },
  {
   "cell_type": "markdown",
   "metadata": {},
   "source": [
    "<hr>"
   ]
  },
  {
   "cell_type": "markdown",
   "metadata": {},
   "source": [
    "I use Pandas to_csv function to export my dataframe in the csv format. I save the file relative to this notebook in my data folder, so that others can also use this script."
   ]
  },
  {
   "cell_type": "code",
   "execution_count": 55,
   "metadata": {},
   "outputs": [],
   "source": [
    "wdi_data_subset_for_selected_year_pivot.to_csv('data/assignment-01-cleaned.csv')"
   ]
  }
 ],
 "metadata": {
  "kernelspec": {
   "display_name": "Python 3.9.13",
   "language": "python",
   "name": "python3"
  },
  "language_info": {
   "codemirror_mode": {
    "name": "ipython",
    "version": 3
   },
   "file_extension": ".py",
   "mimetype": "text/x-python",
   "name": "python",
   "nbconvert_exporter": "python",
   "pygments_lexer": "ipython3",
   "version": "3.9.13"
  },
  "vscode": {
   "interpreter": {
    "hash": "cc0f8570546888f8ce8bc6d01ace0f5b2aad11864bda16830580d8b55f2ba491"
   }
  }
 },
 "nbformat": 4,
 "nbformat_minor": 4
}
