{
 "cells": [
  {
   "cell_type": "markdown",
   "metadata": {},
   "source": [
    "# <img style=\"float: left; padding-right: 10px; width: 200px\" src=\"https://raw.githubusercontent.com/trivikverma/researchgroup/master/assets/media/logo.png\"> EPA-1316 Introduction to *Urban* Data Science \n",
    "\n",
    "\n",
    "## Homework 1: Data, Grammar and Engineering\n",
    "\n",
    "**TU Delft**<br>\n",
    "**Q1 2022**<br>\n",
    "**Instructor:** Trivik Verma <br>\n",
    "**TAs:** Auriane Técourt, Dorukhan Yeşilli, Ludovica Bindi, Nicolò Canal, Ruth Nelson, Vaibhavi Srivastava <br>\n",
    "**[Centre for Urban Science & Policy]( https://cusp.tbm.tudelft.nl/)** <br>\n",
    "\n",
    "---\n",
    "\n"
   ]
  },
  {
   "cell_type": "markdown",
   "metadata": {},
   "source": [
    "# Homework exercises to work on your own"
   ]
  },
  {
   "cell_type": "markdown",
   "metadata": {},
   "source": [
    "## Exercise 1\n",
    "\n",
    "Practice your data tidying skills with a different dataset. For example, you can have a look at the Guardian's version of [Wikileaks' Afghanistan war logs](http://www.theguardian.com/news/datablog/2010/jul/27/wikileaks-afghanistan-data-datajournalism). The table is stored on a GoogleDoc on the following address:\n",
    "\n",
    "> [https://docs.google.com/spreadsheets/d/1EAx8_ksSCmoWW_SlhFyq2QrRn0FNNhcg1TtDFJzZRgc/edit?hl=en#gid=1](https://docs.google.com/spreadsheets/d/1EAx8_ksSCmoWW_SlhFyq2QrRn0FNNhcg1TtDFJzZRgc/edit?hl=en#gid=1)\n",
    "\n",
    "And its structure is as follows:"
   ]
  },
  {
   "cell_type": "code",
   "execution_count": 1,
   "metadata": {},
   "outputs": [
    {
     "data": {
      "text/html": [
       "\n",
       "        <iframe\n",
       "            width=\"700\"\n",
       "            height=\"400\"\n",
       "            src=\"https://docs.google.com/spreadsheets/d/1EAx8_ksSCmoWW_SlhFyq2QrRn0FNNhcg1TtDFJzZRgc/edit?hl=en#gid=1\"\n",
       "            frameborder=\"0\"\n",
       "            allowfullscreen\n",
       "            \n",
       "        ></iframe>\n",
       "        "
      ],
      "text/plain": [
       "<IPython.lib.display.IFrame at 0x7f9a01d626d0>"
      ]
     },
     "execution_count": 1,
     "metadata": {},
     "output_type": "execute_result"
    }
   ],
   "source": [
    "from IPython.display import IFrame\n",
    "url = 'https://docs.google.com/spreadsheets/d/1EAx8_ksSCmoWW_SlhFyq2QrRn0FNNhcg1TtDFJzZRgc/edit?hl=en#gid=1'\n",
    "IFrame(url, 700, 400)"
   ]
  },
  {
   "cell_type": "markdown",
   "metadata": {},
   "source": [
    "Follow these steps:\n",
    "\n",
    "* Download the table as a `csv` file (File --> Download as --> .csv, current sheet).\n",
    "* Read it into Python.\n",
    "* Explore it by creating a few plots.\n",
    "* Examine its level of tidiness and turn it into a fully tidy dataset.\n",
    "* Obtain a monthly total count of casualties and create a line or a bar plot of them.\n"
   ]
  },
  {
   "cell_type": "code",
   "execution_count": 36,
   "metadata": {},
   "outputs": [],
   "source": [
    "# your code here\n",
    "# use many cells if you like to structure your code well\n",
    "import pandas as pd\n",
    "import seaborn as sns\n",
    "import numpy as np"
   ]
  },
  {
   "cell_type": "code",
   "execution_count": 81,
   "metadata": {},
   "outputs": [],
   "source": [
    "data_source = pd.read_csv('Wikileaks Afghanistan war logs analysis - TOTAL CASUALTIES, ALL CAUSES.csv',header=1,index_col=0)\n",
    "data_source = data_source.iloc[:-1]\n",
    "data_source = data_source.replace(np.nan, 0)\n"
   ]
  },
  {
   "cell_type": "code",
   "execution_count": 88,
   "metadata": {},
   "outputs": [
    {
     "name": "stdout",
     "output_type": "stream",
     "text": [
      "Year\n",
      "2004.0     15\n",
      "2004.0      0\n",
      "2004.0     19\n",
      "2004.0      5\n",
      "2004.0     18\n",
      "         ... \n",
      "2009.0    445\n",
      "2009.0    614\n",
      "2009.0    462\n",
      "2009.0    410\n",
      "2009.0    287\n",
      "Name: Taliban, Length: 72, dtype: object Year\n",
      "2004.0     51\n",
      "2004.0      7\n",
      "2004.0      2\n",
      "2004.0      3\n",
      "2004.0     29\n",
      "         ... \n",
      "2009.0    206\n",
      "2009.0    197\n",
      "2009.0    107\n",
      "2009.0    120\n",
      "2009.0     87\n",
      "Name: Civilians, Length: 72, dtype: object Year\n",
      "2004.0     23\n",
      "2004.0      4\n",
      "2004.0      0\n",
      "2004.0     19\n",
      "2004.0     56\n",
      "         ... \n",
      "2009.0    190\n",
      "2009.0    133\n",
      "2009.0     86\n",
      "2009.0     69\n",
      "2009.0     65\n",
      "Name: Afghan forces, Length: 72, dtype: object Year\n",
      "2004.0     0\n",
      "2004.0     5\n",
      "2004.0     2\n",
      "2004.0     0\n",
      "2004.0     6\n",
      "          ..\n",
      "2009.0    64\n",
      "2009.0    54\n",
      "2009.0    76\n",
      "2009.0    30\n",
      "2009.0    33\n",
      "Name: Nato (detailed in spreadsheet), Length: 72, dtype: object Year\n",
      "2004.0    11.0\n",
      "2004.0     2.0\n",
      "2004.0     3.0\n",
      "2004.0     3.0\n",
      "2004.0     9.0\n",
      "          ... \n",
      "2009.0    77.0\n",
      "2009.0    70.0\n",
      "2009.0    74.0\n",
      "2009.0    32.0\n",
      "2009.0    35.0\n",
      "Name: Nato - official figures, Length: 72, dtype: float64\n"
     ]
    }
   ],
   "source": [
    "cols = ['Taliban']\n",
    "data_source_tidy = data_source.loc[:cols]\n",
    "#data_source_tidy['monthly_total'] = data_source_tidy.sum(axis=1,numeric_only= True)\n",
    "#print(data_source_tidy)\n",
    "#total = data_source_tidy['Taliban']+data_source_tidy['Civilians']+data_source_tidy['Afghan forces']+data_source_tidy['Nato (detailed in spreadsheet)']+data_source_tidy['Nato - official figures']\n",
    "print(data_source['Taliban'],data_source_tidy['Civilians'],data_source_tidy['Afghan forces'],data_source_tidy['Nato (detailed in spreadsheet)'],data_source_tidy['Nato - official figures'])"
   ]
  },
  {
   "cell_type": "code",
   "execution_count": 24,
   "metadata": {},
   "outputs": [
    {
     "data": {
      "image/png": "[encoded data removed]",
      "text/plain": [
       "<Figure size 360x360 with 1 Axes>"
      ]
     },
     "metadata": {
      "needs_background": "light"
     },
     "output_type": "display_data"
    }
   ],
   "source": [
    "#_ = sns.kdeplot(data_source['Civilians'], shade=True)\n",
    "_ = sns.relplot(x=data_source_tidy['Year'],y=data_source_tidy['Civilians'])"
   ]
  },
  {
   "cell_type": "code",
   "execution_count": 26,
   "metadata": {},
   "outputs": [
    {
     "data": {
      "text/plain": [
       "<seaborn.axisgrid.FacetGrid at 0x7f8bee755430>"
      ]
     },
     "execution_count": 26,
     "metadata": {},
     "output_type": "execute_result"
    },
    {
     "data": {
      "image/png": "[encoded data removed]",
      "text/plain": [
       "<Figure size 360x360 with 1 Axes>"
      ]
     },
     "metadata": {
      "needs_background": "light"
     },
     "output_type": "display_data"
    }
   ],
   "source": [
    "sns.displot(data=data_source_tidy, x=data_source_tidy['Civilians'], kde=True)"
   ]
  }
 ],
 "metadata": {
  "kernelspec": {
   "display_name": "Python 3.9.12 ('base')",
   "language": "python",
   "name": "python3"
  },
  "language_info": {
   "codemirror_mode": {
    "name": "ipython",
    "version": 3
   },
   "file_extension": ".py",
   "mimetype": "text/x-python",
   "name": "python",
   "nbconvert_exporter": "python",
   "pygments_lexer": "ipython3",
   "version": "3.9.12"
  },
  "vscode": {
   "interpreter": {
    "hash": "472f3460692ba2c0861145e5e150d03c8a5c0e40e057944a047c431b9050b93d"
   }
  }
 },
 "nbformat": 4,
 "nbformat_minor": 4
}
