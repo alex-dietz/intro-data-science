{
 "cells": [
  {
   "cell_type": "markdown",
   "metadata": {},
   "source": [
    "# <img style=\"float: left; padding-right: 10px; width: 200px\" src=\"https://raw.githubusercontent.com/trivikverma/researchgroup/master/assets/media/logo.png\"> EPA-1316 Introduction to *Urban* Data Science \n",
    "\n",
    "\n",
    "## Homework 1: Data, Grammar and Engineering\n",
    "\n",
    "**TU Delft**<br>\n",
    "**Q1 2022**<br>\n",
    "**Instructor:** Trivik Verma <br>\n",
    "**TAs:** Auriane Técourt, Dorukhan Yeşilli, Ludovica Bindi, Nicolò Canal, Ruth Nelson, Vaibhavi Srivastava <br>\n",
    "**[Centre for Urban Science & Policy]( https://cusp.tbm.tudelft.nl/)** <br>\n",
    "\n",
    "---\n",
    "\n"
   ]
  },
  {
   "cell_type": "markdown",
   "metadata": {},
   "source": [
    "# Homework exercises to work on your own"
   ]
  },
  {
   "cell_type": "markdown",
   "metadata": {},
   "source": [
    "## Exercise 1\n",
    "\n",
    "Practice your data tidying skills with a different dataset. For example, you can have a look at the Guardian's version of [Wikileaks' Afghanistan war logs](http://www.theguardian.com/news/datablog/2010/jul/27/wikileaks-afghanistan-data-datajournalism). The table is stored on a GoogleDoc on the following address:\n",
    "\n",
    "> [https://docs.google.com/spreadsheets/d/1EAx8_ksSCmoWW_SlhFyq2QrRn0FNNhcg1TtDFJzZRgc/edit?hl=en#gid=1](https://docs.google.com/spreadsheets/d/1EAx8_ksSCmoWW_SlhFyq2QrRn0FNNhcg1TtDFJzZRgc/edit?hl=en#gid=1)\n",
    "\n",
    "And its structure is as follows:"
   ]
  },
  {
   "cell_type": "code",
   "execution_count": 1,
   "metadata": {},
   "outputs": [
    {
     "data": {
      "text/html": [
       "\n",
       "        <iframe\n",
       "            width=\"700\"\n",
       "            height=\"400\"\n",
       "            src=\"https://docs.google.com/spreadsheets/d/1EAx8_ksSCmoWW_SlhFyq2QrRn0FNNhcg1TtDFJzZRgc/edit?hl=en#gid=1\"\n",
       "            frameborder=\"0\"\n",
       "            allowfullscreen\n",
       "            \n",
       "        ></iframe>\n",
       "        "
      ],
      "text/plain": [
       "<IPython.lib.display.IFrame at 0x7f9a01d626d0>"
      ]
     },
     "execution_count": 1,
     "metadata": {},
     "output_type": "execute_result"
    }
   ],
   "source": [
    "from IPython.display import IFrame\n",
    "url = 'https://docs.google.com/spreadsheets/d/1EAx8_ksSCmoWW_SlhFyq2QrRn0FNNhcg1TtDFJzZRgc/edit?hl=en#gid=1'\n",
    "IFrame(url, 700, 400)"
   ]
  },
  {
   "cell_type": "markdown",
   "metadata": {},
   "source": [
    "Follow these steps:\n",
    "\n",
    "* Download the table as a `csv` file (File --> Download as --> .csv, current sheet).\n",
    "* Read it into Python.\n",
    "* Explore it by creating a few plots.\n",
    "* Examine its level of tidiness and turn it into a fully tidy dataset.\n",
    "* Obtain a monthly total count of casualties and create a line or a bar plot of them.\n"
   ]
  },
  {
   "cell_type": "code",
   "execution_count": 1,
   "metadata": {},
   "outputs": [],
   "source": [
    "# your code here\n",
    "# use many cells if you like to structure your code well\n",
    "import pandas as pd\n",
    "import seaborn as sns\n",
    "import numpy as np"
   ]
  },
  {
   "cell_type": "code",
   "execution_count": 26,
   "metadata": {},
   "outputs": [
    {
     "name": "stdout",
     "output_type": "stream",
     "text": [
      "<bound method NDFrame.head of                   Taliban  Civilians  Afghan forces  \\\n",
      "Year   Month                                          \n",
      "2004.0 January         15         51             23   \n",
      "       February         0          7              4   \n",
      "       March           19          2              0   \n",
      "       April            5          3             19   \n",
      "       May             18         29             56   \n",
      "...                   ...        ...            ...   \n",
      "2009.0 August         445        206            190   \n",
      "       September      614        197            133   \n",
      "       October        462        107             86   \n",
      "       November       410        120             69   \n",
      "       December       287         87             65   \n",
      "\n",
      "                  Nato (detailed in spreadsheet)  Nato - official figures  \n",
      "Year   Month                                                               \n",
      "2004.0 January                                 0                       11  \n",
      "       February                                5                        2  \n",
      "       March                                   2                        3  \n",
      "       April                                   0                        3  \n",
      "       May                                     6                        9  \n",
      "...                                          ...                      ...  \n",
      "2009.0 August                                 64                       77  \n",
      "       September                              54                       70  \n",
      "       October                                76                       74  \n",
      "       November                               30                       32  \n",
      "       December                               33                       35  \n",
      "\n",
      "[72 rows x 5 columns]>\n"
     ]
    }
   ],
   "source": [
    "data_source = pd.read_csv('Wikileaks Afghanistan war logs analysis - TOTAL CASUALTIES, ALL CAUSES.csv',header=1)\n",
    "data_source = data_source.iloc[:-1]\n",
    "data_source = data_source.replace(np.nan, 0)\n",
    "data_source['Taliban'] = data_source['Taliban'].astype(int)\n",
    "data_source['Civilians'] = data_source['Civilians'].astype(int)\n",
    "data_source['Afghan forces'] = data_source['Afghan forces'].astype(int)\n",
    "data_source['Nato (detailed in spreadsheet)'] = data_source['Nato (detailed in spreadsheet)'].astype(int)\n",
    "data_source['Nato - official figures'] = data_source['Nato - official figures'].astype(int)\n",
    "\n",
    "data_source.set_index(['Year','Month'],inplace=True)\n",
    "print(data_source.head)\n"
   ]
  },
  {
   "cell_type": "code",
   "execution_count": 47,
   "metadata": {},
   "outputs": [
    {
     "name": "stdout",
     "output_type": "stream",
     "text": [
      "<bound method NDFrame.head of       Year      Month  Taliban  Civilians  Afghan forces  \\\n",
      "0   2004.0    January       15         51             23   \n",
      "1   2004.0   February        0          7              4   \n",
      "2   2004.0      March       19          2              0   \n",
      "3   2004.0      April        5          3             19   \n",
      "4   2004.0        May       18         29             56   \n",
      "..     ...        ...      ...        ...            ...   \n",
      "67  2009.0     August      445        206            190   \n",
      "68  2009.0  September      614        197            133   \n",
      "69  2009.0    October      462        107             86   \n",
      "70  2009.0   November      410        120             69   \n",
      "71  2009.0   December      287         87             65   \n",
      "\n",
      "    Nato (detailed in spreadsheet)  Nato - official figures  Total  \n",
      "0                                0                       11    700  \n",
      "1                                5                        2    126  \n",
      "2                                2                        3    182  \n",
      "3                                0                        3    210  \n",
      "4                                6                        9    826  \n",
      "..                             ...                      ...    ...  \n",
      "67                              64                       77   6874  \n",
      "68                              54                       70   7476  \n",
      "69                              76                       74   5635  \n",
      "70                              30                       32   4627  \n",
      "71                              33                       35   3549  \n",
      "\n",
      "[72 rows x 8 columns]>\n",
      "0      700\n",
      "1      126\n",
      "2      182\n",
      "3      210\n",
      "4      826\n",
      "      ... \n",
      "67    6874\n",
      "68    7476\n",
      "69    5635\n",
      "70    4627\n",
      "71    3549\n",
      "Name: Total, Length: 72, dtype: int64\n"
     ]
    }
   ],
   "source": [
    "#cols = ['Taliban']\n",
    "#data_source_tidy = data_source.loc[:cols]\n",
    "#data_source_tidy['monthly_total'] = data_source_tidy.sum(axis=1,numeric_only= True)\n",
    "#print(data_source_tidy)\n",
    "#total = data_source_tidy['Taliban']+data_source_tidy['Civilians']+data_source_tidy['Afghan forces']+data_source_tidy['Nato (detailed in spreadsheet)']+data_source_tidy['Nato - official figures']\n",
    "#print(data_source['Taliban'],data_source_tidy['Civilians'],data_source_tidy['Afghan forces'],data_source_tidy['Nato (detailed in spreadsheet)'],data_source_tidy['Nato - official figures'])\n",
    "\n",
    "grouped = data_source\n",
    "grouped['Total'] = grouped.sum(axis=1)\n",
    "grouped = grouped.reset_index()\n",
    "#grouped.set_index('Year',inplace=True)\n",
    "print(grouped.head)\n",
    "print(grouped['Total'])"
   ]
  },
  {
   "cell_type": "code",
   "execution_count": 60,
   "metadata": {},
   "outputs": [
    {
     "name": "stderr",
     "output_type": "stream",
     "text": [
      "/Users/alex/opt/anaconda3/lib/python3.9/site-packages/seaborn/distributions.py:2619: FutureWarning: `distplot` is a deprecated function and will be removed in a future version. Please adapt your code to use either `displot` (a figure-level function with similar flexibility) or `histplot` (an axes-level function for histograms).\n",
      "  warnings.warn(msg, FutureWarning)\n"
     ]
    },
    {
     "data": {
      "image/png": "[encoded data removed]",
      "text/plain": [
       "<Figure size 432x288 with 1 Axes>"
      ]
     },
     "metadata": {
      "needs_background": "light"
     },
     "output_type": "display_data"
    }
   ],
   "source": [
    "#_ = sns.kdeplot(data_source['Civilians'], shade=True)\n",
    "_ = sns.distplot(x=grouped['Total'])"
   ]
  },
  {
   "cell_type": "code",
   "execution_count": 26,
   "metadata": {},
   "outputs": [
    {
     "data": {
      "text/plain": [
       "<seaborn.axisgrid.FacetGrid at 0x7f8bee755430>"
      ]
     },
     "execution_count": 26,
     "metadata": {},
     "output_type": "execute_result"
    },
    {
     "data": {
      "image/png": "[encoded data removed]",
      "text/plain": [
       "<Figure size 360x360 with 1 Axes>"
      ]
     },
     "metadata": {
      "needs_background": "light"
     },
     "output_type": "display_data"
    }
   ],
   "source": [
    "sns.displot(data=data_source_tidy, x=data_source_tidy['Civilians'], kde=True)"
   ]
  }
 ],
 "metadata": {
  "kernelspec": {
   "display_name": "Python 3.9.12 ('base')",
   "language": "python",
   "name": "python3"
  },
  "language_info": {
   "codemirror_mode": {
    "name": "ipython",
    "version": 3
   },
   "file_extension": ".py",
   "mimetype": "text/x-python",
   "name": "python",
   "nbconvert_exporter": "python",
   "pygments_lexer": "ipython3",
   "version": "3.9.12"
  },
  "vscode": {
   "interpreter": {
    "hash": "472f3460692ba2c0861145e5e150d03c8a5c0e40e057944a047c431b9050b93d"
   }
  }
 },
 "nbformat": 4,
 "nbformat_minor": 4
}
