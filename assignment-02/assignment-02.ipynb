{
 "cells": [
  {
   "cell_type": "markdown",
   "metadata": {},
   "source": [
    "# <img style=\"float: left; padding-right: 10px; width: 200px\" src=\"https://raw.githubusercontent.com/trivikverma/researchgroup/master/assets/media/logo.png\"> EPA-1316 Introduction to *Urban* Data Science \n",
    "\n",
    "\n",
    "## Assignment 2: Geographic Visualisation\n",
    "\n",
    "\n",
    "---\n",
    "\n"
   ]
  },
  {
   "cell_type": "markdown",
   "metadata": {},
   "source": [
    "# ``Instructions``\n",
    "\n",
    "This assignment puts together what you learned in **Weeks 4-5**. Assignment 3 will build upon what you do in Assignment 2. \n",
    "\n",
    "_Note:_ Go through **labs and homeworks 03-04** before starting this assignment.\n",
    "\n",
    "#### 1.1 Submission\n",
    "\n",
    "Please submit the results by Brightspace under **Assignment 02**, using a single file as example,\n",
    "\n",
    "```text\n",
    "firstname_secondname_thirdname_lastname_02.html\n",
    "\n",
    "```\n",
    "\n",
    "**If your file is not named in lowercase letters as mentioned above, your assignment will not be read by the script that works to compile 200 assignments and you will miss out on the grades. I don't want that, so be exceptionally careful that you name it properly. Don't worry if you spelled your name incorrectly. I want to avoid a situation where I have 200 assignments all called assignment_02.html**\n",
    "\n",
    "Please **do not** submit any data or files other than the ``html file``.\n",
    "\n",
    "Don't worry about your submission _rendering without the images_ **after** you submitted the file on brightspace. That is a brigthspace related issue of viewing your own submission but when I download all assignments as a batch file, I get all your images and code as you intended to submit. So make sure that your html shows everything you want us to see **before you submit**. \n",
    "\n",
    "#### 1.2 How do you convert to HTML? \n",
    "\n",
    "There are 2 ways, \n",
    "\n",
    "1. from a running notebook, you can convert it into html by clicking on the file tab on the main menu of Jupyter Lab \n",
    "    * File &rightarrow; Export Notebooks as... &rightarrow; Export Notebook to HTML\n",
    "2. go to terminal or command line and type\n",
    "    * ``jupyter nbconvert --to html <notebook_name>.ipynb  ``\n",
    "\n",
    "#### 1.3 Learning Objectives\n",
    "\n",
    "This assignment is designed to support three different learning objectives. After completing the following exercises you will be able to:\n",
    "\n",
    "* Combine different datasets\n",
    "* Explore and Visualise Geographic data\n",
    "* Plot (graphs, scatter plots, choropleth, etc..) and discuss (observations, outliers or relationships) important information about the data using the `principles of graphical excellence` and `guidelines of exploratory data analysis`."
   ]
  },
  {
   "cell_type": "markdown",
   "metadata": {},
   "source": [
    "<br/>\n",
    "\n",
    "***\n",
    "\n",
    "# ``Problem``\n",
    "\n",
    "`Problem Statement`: \n",
    "- For this assignment you will use two **different** datasets of The Hague, The Netherlands to formulate a hypothesis/RQ. \n",
    "- To formulate the hypothesis, provide at least `two measurements` that may be related to each other (for example: your hypothesis is that neighbourhoods with `no green space` are more prone to populations with `mental health issues`). \n",
    "- Be explicit about how you define these measurements using markdown cells (for example: how do you measure the amount of green space, and how do you measure the levels of mental health issues in the population?).\n",
    "- Observe that the measurements have a normative value attached to it (for example: according to your hypothesis, `high levels` of crime in a neighbourhood is of `more` interest). Please no not assume that there is only one normative definition of a certain measurement and skip your reasoning.\n",
    "- On the basis of the hypothesis and its associated measurements, you will conduct some exploratory/spatial data analysis and provide a list of **five neighbourhoods** in The Hague, The Netherlands characterised as areas of interest. \n",
    "\n",
    "_Note:_ I am not looking for mathematical equations as justification, but you are welcome to also form simple relations and show them in markdown. \n",
    "\n",
    "A successful student example from last year,\n",
    "\n",
    "\n",
    "> I hypothesise that neighbourhoods of The Hague with higher average incomes and less income inequality are likely to have [fewer reported crimes](https://www.npr.org/2019/04/19/715145723/why-no-one-feels-rich-the-psychology-of-inequality), due to lower levels of socioeconomic disadvantage.\n",
    "\n",
    ">Definitions of metrics:\n",
    ">- Average income (average gross personal income per resident, euros)\n",
    ">- Inequality (determined in this analysis based on the percentage of households in a neighbourhood with average income - higher percentage of average income = less inequality). This is arguably an oversimplification of the concept of inequality but is considered a suitable approximation given the available datasets.\n",
    ">- Reported crime - all offences 2019 (this is normalised in terms of population. Note this results in some anomalous values for neighbourhoods with very low populations (e.g. industrial estates or parks), some of which have been removed\n",
    ">- Population - population of each neighbourhood - used to adjust the crime statistics for population."
   ]
  },
  {
   "cell_type": "markdown",
   "metadata": {},
   "source": [
    "<br/>\n",
    "\n",
    "***\n",
    "\n",
    "# ``Data``\n",
    "\n",
    "As part of the assignment files, I have provided you with the **first dataset**: the shapefiles of The Hague. After you unzip the data, we’ll work with the files of the form ``neighborhoods.xxx``, in all the different geographic formats. Put the data in a convenient location on your computer or laptop, ideally in a folder called **data** which is next to this **jupyter notebook**. I recommend taking a look at the file with format `.json` in a text editor like _atom_ for any system or notepad++ for windows. These will also make your life easy for everything else on your computer. Make sure you’ve set your working directory in the [correct manner](https://www.delftstack.com/howto/python/relative-path-in-python/).\n",
    "\n",
    "It’s a big file and it may take a while to load onto your laptop and into Python (running on the jupyter labs environment). \n",
    "\n",
    "As mentioned above in the problem introduction, you will use at least two datasets.\n",
    "\n",
    "1. **First Dataset:** Download Shapefiles provided with the assignment\n",
    "2. **Second Dataset:** Get a second dataset of your choice from The Hague city region using the links below (curate them as you like)\n",
    "\n",
    "#### More Data Sources\n",
    "\n",
    "You can find more data sources on Cities and Population, Climate indicators and Land-use in the following links.\n",
    "\n",
    "Mikhail Sirenko has prepared the **first dataset** shapefiles with love and care so that you can connect it with either [Den Haag Cijfers](https://denhaag.incijfers.nl/jive) or [CBS](https://www.cbs.nl/nl-nl/reeksen/kerncijfers-wijken-en-buurten-2004-2020) datasets without having to clean any data. For the rest of the datasets, you may need to clean up.\n",
    "\n",
    "_Note:_ Data from CBS is only complete upto 2017. You will have to subset the data on municpality using the variable name `gm_naam = 's-Gravenhage` and then subset on neighbourhood resolution using variable name `recs = Buurt` to get the data that can match the shapefiles we have provided. \n",
    "\n",
    "* https://denhaag.incijfers.nl/jive (available in English on the website)\n",
    "* https://www.cbs.nl/nl-nl/reeksen/kerncijfers-wijken-en-buurten-2004-2020\n",
    "* http://citypopulation.de/ \n",
    "* https://www.census.gov/programs-surveys/geography.html \n",
    "* https://www.eea.europa.eu/data-and-maps \n",
    "* http://download.geofabrik.de/\n",
    "\n",
    "#### In case you get more data as shapefiles, and want to play with projections, a nice guide for it is [here](https://automating-gis-processes.github.io/CSC18/lessons/L2/projections.html)"
   ]
  },
  {
   "cell_type": "markdown",
   "metadata": {},
   "source": [
    "<br/>\n",
    "\n",
    "***\n",
    "\n",
    "# ``Tasks``\n",
    "\n",
    "For your convenience, the assignment has been divided into the following tasks, \n",
    "\n",
    "1. Use two datasets: merge 1 shapefile (already provided) and a csv file (you find and obtain)\n",
    "2. Formulate a hypothesis and the measurements you are going to use\n",
    "3. Clean your data and make it tabular for your own good! (think about weeks 1-2 and assignment 1)\n",
    "4. Carry out an exploratory data analysis (EDA)\n",
    "4. Report and justify your choice of the list of 5 neighbourhoods on the basis of your analysis.\n",
    "    * Use at least **3 figures** to support your analysis. Think about exploratory data analysis (build data, clean data, explore global/group properties). \n",
    "    * These figures should have followed the principles of graphical excellence. Using markdown, write explicity under each figure at least **3 principles of excellence** you have used to make it.\n",
    "    * Create **choropleths** to display region-specific information (ex. population, voting choice or jobs availability) together with some other elements like the sea, canals, centroids, or amenities (you may try Open Street Maps data - using `osmnx`).\n",
    "    * Be careful with the use of color (and try to be inclusive of color blind people)\n",
    "    * Use **one method** from the lectures to discuss what you observe for your variable(s). Examples below,\n",
    "          * local or global spatial autocorrelation\n",
    "          * network measures\n",
    "          * spatial weights / spatial lag\n",
    "          * binning\n",
    "          * feature scaling, normalisation or standardisation\n",
    "\n",
    "***Remember to always document your code! Justify everything you do (cleaning data, analysisng data, exploring data, defining hypothesis or measurements, etc.) using markdown cells as you go through the notebook.***"
   ]
  },
  {
   "cell_type": "markdown",
   "metadata": {},
   "source": [
    "<br/>\n",
    "\n",
    "***\n",
    "\n",
    "# ``Start your analysis``"
   ]
  },
  {
   "cell_type": "code",
   "execution_count": 1,
   "metadata": {},
   "outputs": [],
   "source": [
    "# your code here\n",
    "# use many cells if you like to structure your code well\n",
    "import matplotlib.pyplot as plt\n",
    "import geopandas as gpd\n",
    "import palettable as pltt\n",
    "from seaborn import palplot"
   ]
  },
  {
   "cell_type": "code",
   "execution_count": 3,
   "metadata": {},
   "outputs": [
    {
     "data": {
      "text/plain": [
       "geopandas.geodataframe.GeoDataFrame"
      ]
     },
     "execution_count": 3,
     "metadata": {},
     "output_type": "execute_result"
    }
   ],
   "source": [
    "lsoas = gpd.read_file(\"data/neighborhoods.shp\")\n",
    "type(lsoas)"
   ]
  },
  {
   "cell_type": "code",
   "execution_count": 4,
   "metadata": {},
   "outputs": [
    {
     "data": {
      "text/html": [
       "<div>\n",
       "<style scoped>\n",
       "    .dataframe tbody tr th:only-of-type {\n",
       "        vertical-align: middle;\n",
       "    }\n",
       "\n",
       "    .dataframe tbody tr th {\n",
       "        vertical-align: top;\n",
       "    }\n",
       "\n",
       "    .dataframe thead th {\n",
       "        text-align: right;\n",
       "    }\n",
       "</style>\n",
       "<table border=\"1\" class=\"dataframe\">\n",
       "  <thead>\n",
       "    <tr style=\"text-align: right;\">\n",
       "      <th></th>\n",
       "      <th>neighb_cbs</th>\n",
       "      <th>neigb_cijf</th>\n",
       "      <th>geometry</th>\n",
       "    </tr>\n",
       "  </thead>\n",
       "  <tbody>\n",
       "    <tr>\n",
       "      <th>0</th>\n",
       "      <td>Oostduinen</td>\n",
       "      <td>70 Oostduinen</td>\n",
       "      <td>POLYGON ((4.30290 52.12832, 4.30298 52.12827, ...</td>\n",
       "    </tr>\n",
       "    <tr>\n",
       "      <th>1</th>\n",
       "      <td>Belgisch Park</td>\n",
       "      <td>71 Belgisch Park</td>\n",
       "      <td>POLYGON ((4.28056 52.11706, 4.28053 52.11706, ...</td>\n",
       "    </tr>\n",
       "    <tr>\n",
       "      <th>2</th>\n",
       "      <td>Westbroekpark</td>\n",
       "      <td>73 Westbroekpark</td>\n",
       "      <td>POLYGON ((4.29171 52.10745, 4.29181 52.10739, ...</td>\n",
       "    </tr>\n",
       "    <tr>\n",
       "      <th>3</th>\n",
       "      <td>Duttendel</td>\n",
       "      <td>74 Duttendel</td>\n",
       "      <td>POLYGON ((4.32252 52.10768, 4.32252 52.10766, ...</td>\n",
       "    </tr>\n",
       "    <tr>\n",
       "      <th>4</th>\n",
       "      <td>Nassaubuurt</td>\n",
       "      <td>48 Nassaubuurt</td>\n",
       "      <td>POLYGON ((4.31943 52.09247, 4.31943 52.09247, ...</td>\n",
       "    </tr>\n",
       "  </tbody>\n",
       "</table>\n",
       "</div>"
      ],
      "text/plain": [
       "      neighb_cbs        neigb_cijf  \\\n",
       "0     Oostduinen     70 Oostduinen   \n",
       "1  Belgisch Park  71 Belgisch Park   \n",
       "2  Westbroekpark  73 Westbroekpark   \n",
       "3      Duttendel      74 Duttendel   \n",
       "4    Nassaubuurt    48 Nassaubuurt   \n",
       "\n",
       "                                            geometry  \n",
       "0  POLYGON ((4.30290 52.12832, 4.30298 52.12827, ...  \n",
       "1  POLYGON ((4.28056 52.11706, 4.28053 52.11706, ...  \n",
       "2  POLYGON ((4.29171 52.10745, 4.29181 52.10739, ...  \n",
       "3  POLYGON ((4.32252 52.10768, 4.32252 52.10766, ...  \n",
       "4  POLYGON ((4.31943 52.09247, 4.31943 52.09247, ...  "
      ]
     },
     "execution_count": 4,
     "metadata": {},
     "output_type": "execute_result"
    }
   ],
   "source": [
    "lsoas.head()"
   ]
  },
  {
   "cell_type": "code",
   "execution_count": 5,
   "metadata": {},
   "outputs": [
    {
     "data": {
      "text/plain": [
       "<AxesSubplot:>"
      ]
     },
     "execution_count": 5,
     "metadata": {},
     "output_type": "execute_result"
    },
    {
     "data": {
      "image/png": "[encoded data removed]",
      "text/plain": [
       "<Figure size 640x480 with 1 Axes>"
      ]
     },
     "metadata": {},
     "output_type": "display_data"
    }
   ],
   "source": [
    "lsoas.plot()"
   ]
  },
  {
   "cell_type": "markdown",
   "metadata": {},
   "source": [
    "<hr>"
   ]
  },
  {
   "cell_type": "markdown",
   "metadata": {},
   "source": [
    "selected measures:\n",
    "- a_inw population\n",
    "- g_woz real estate value\n",
    "- a_opl_lg number of low education people\n",
    "- bev_dich population density\n",
    "\n",
    "I hypothesize that neighbourhoods with low education and high population density tend to have a lower real estate value, as they will more likely have a lower income and live in multi-family homes."
   ]
  },
  {
   "cell_type": "code",
   "execution_count": 16,
   "metadata": {},
   "outputs": [],
   "source": [
    "import pandas as pd\n",
    "import seaborn as sns"
   ]
  },
  {
   "cell_type": "code",
   "execution_count": 18,
   "metadata": {},
   "outputs": [],
   "source": [
    "csb_data = pd.read_excel(\"data/kwb-2020.xls\")"
   ]
  },
  {
   "cell_type": "markdown",
   "metadata": {},
   "source": [
    "csb_data.head()"
   ]
  },
  {
   "cell_type": "code",
   "execution_count": 19,
   "metadata": {},
   "outputs": [
    {
     "data": {
      "text/html": [
       "<div>\n",
       "<style scoped>\n",
       "    .dataframe tbody tr th:only-of-type {\n",
       "        vertical-align: middle;\n",
       "    }\n",
       "\n",
       "    .dataframe tbody tr th {\n",
       "        vertical-align: top;\n",
       "    }\n",
       "\n",
       "    .dataframe thead th {\n",
       "        text-align: right;\n",
       "    }\n",
       "</style>\n",
       "<table border=\"1\" class=\"dataframe\">\n",
       "  <thead>\n",
       "    <tr style=\"text-align: right;\">\n",
       "      <th></th>\n",
       "      <th>gwb_code_10</th>\n",
       "      <th>gwb_code_8</th>\n",
       "      <th>regio</th>\n",
       "      <th>gm_naam</th>\n",
       "      <th>recs</th>\n",
       "      <th>gwb_code</th>\n",
       "      <th>ind_wbi</th>\n",
       "      <th>a_inw</th>\n",
       "      <th>a_man</th>\n",
       "      <th>a_vrouw</th>\n",
       "      <th>...</th>\n",
       "      <th>g_afs_kv</th>\n",
       "      <th>g_afs_sc</th>\n",
       "      <th>g_3km_sc</th>\n",
       "      <th>a_opp_ha</th>\n",
       "      <th>a_lan_ha</th>\n",
       "      <th>a_wat_ha</th>\n",
       "      <th>pst_mvp</th>\n",
       "      <th>pst_dekp</th>\n",
       "      <th>ste_mvs</th>\n",
       "      <th>ste_oad</th>\n",
       "    </tr>\n",
       "  </thead>\n",
       "  <tbody>\n",
       "    <tr>\n",
       "      <th>0</th>\n",
       "      <td>NL00</td>\n",
       "      <td>0</td>\n",
       "      <td>Nederland</td>\n",
       "      <td>Nederland</td>\n",
       "      <td>Land</td>\n",
       "      <td>NL00</td>\n",
       "      <td>.</td>\n",
       "      <td>17407585</td>\n",
       "      <td>8648031</td>\n",
       "      <td>8759554</td>\n",
       "      <td>...</td>\n",
       "      <td>0,6</td>\n",
       "      <td>0,7</td>\n",
       "      <td>10,9</td>\n",
       "      <td>4154338</td>\n",
       "      <td>3367109</td>\n",
       "      <td>787228</td>\n",
       "      <td>.</td>\n",
       "      <td>.</td>\n",
       "      <td>2</td>\n",
       "      <td>2010</td>\n",
       "    </tr>\n",
       "    <tr>\n",
       "      <th>1</th>\n",
       "      <td>GM0003</td>\n",
       "      <td>3</td>\n",
       "      <td>Appingedam</td>\n",
       "      <td>Appingedam</td>\n",
       "      <td>Gemeente</td>\n",
       "      <td>GM0003</td>\n",
       "      <td>.</td>\n",
       "      <td>11642</td>\n",
       "      <td>5671</td>\n",
       "      <td>5971</td>\n",
       "      <td>...</td>\n",
       "      <td>0,9</td>\n",
       "      <td>0,9</td>\n",
       "      <td>6,4</td>\n",
       "      <td>2458</td>\n",
       "      <td>2378</td>\n",
       "      <td>80</td>\n",
       "      <td>.</td>\n",
       "      <td>.</td>\n",
       "      <td>3</td>\n",
       "      <td>1066</td>\n",
       "    </tr>\n",
       "    <tr>\n",
       "      <th>2</th>\n",
       "      <td>WK000300</td>\n",
       "      <td>300</td>\n",
       "      <td>Wijk 00</td>\n",
       "      <td>Appingedam</td>\n",
       "      <td>Wijk</td>\n",
       "      <td>WK000300</td>\n",
       "      <td>1</td>\n",
       "      <td>11640</td>\n",
       "      <td>5670</td>\n",
       "      <td>5970</td>\n",
       "      <td>...</td>\n",
       "      <td>0,9</td>\n",
       "      <td>0,9</td>\n",
       "      <td>6,4</td>\n",
       "      <td>2458</td>\n",
       "      <td>2378</td>\n",
       "      <td>80</td>\n",
       "      <td>.</td>\n",
       "      <td>.</td>\n",
       "      <td>3</td>\n",
       "      <td>1066</td>\n",
       "    </tr>\n",
       "    <tr>\n",
       "      <th>3</th>\n",
       "      <td>BU00030000</td>\n",
       "      <td>30000</td>\n",
       "      <td>Appingedam-Centrum</td>\n",
       "      <td>Appingedam</td>\n",
       "      <td>Buurt</td>\n",
       "      <td>BU00030000</td>\n",
       "      <td>1</td>\n",
       "      <td>2395</td>\n",
       "      <td>1150</td>\n",
       "      <td>1245</td>\n",
       "      <td>...</td>\n",
       "      <td>1,2</td>\n",
       "      <td>1,1</td>\n",
       "      <td>7,1</td>\n",
       "      <td>90</td>\n",
       "      <td>84</td>\n",
       "      <td>5</td>\n",
       "      <td>9901</td>\n",
       "      <td>1</td>\n",
       "      <td>3</td>\n",
       "      <td>1209</td>\n",
       "    </tr>\n",
       "    <tr>\n",
       "      <th>4</th>\n",
       "      <td>BU00030001</td>\n",
       "      <td>30001</td>\n",
       "      <td>Appingedam-West</td>\n",
       "      <td>Appingedam</td>\n",
       "      <td>Buurt</td>\n",
       "      <td>BU00030001</td>\n",
       "      <td>1</td>\n",
       "      <td>3015</td>\n",
       "      <td>1475</td>\n",
       "      <td>1540</td>\n",
       "      <td>...</td>\n",
       "      <td>1,0</td>\n",
       "      <td>1,0</td>\n",
       "      <td>4,0</td>\n",
       "      <td>163</td>\n",
       "      <td>158</td>\n",
       "      <td>5</td>\n",
       "      <td>9903</td>\n",
       "      <td>6</td>\n",
       "      <td>4</td>\n",
       "      <td>902</td>\n",
       "    </tr>\n",
       "  </tbody>\n",
       "</table>\n",
       "<p>5 rows × 119 columns</p>\n",
       "</div>"
      ],
      "text/plain": [
       "  gwb_code_10  gwb_code_8               regio     gm_naam      recs  \\\n",
       "0        NL00           0           Nederland   Nederland      Land   \n",
       "1      GM0003           3          Appingedam  Appingedam  Gemeente   \n",
       "2    WK000300         300             Wijk 00  Appingedam      Wijk   \n",
       "3  BU00030000       30000  Appingedam-Centrum  Appingedam     Buurt   \n",
       "4  BU00030001       30001     Appingedam-West  Appingedam     Buurt   \n",
       "\n",
       "     gwb_code ind_wbi     a_inw    a_man  a_vrouw  ...  g_afs_kv  g_afs_sc  \\\n",
       "0        NL00       .  17407585  8648031  8759554  ...       0,6       0,7   \n",
       "1      GM0003       .     11642     5671     5971  ...       0,9       0,9   \n",
       "2    WK000300       1     11640     5670     5970  ...       0,9       0,9   \n",
       "3  BU00030000       1      2395     1150     1245  ...       1,2       1,1   \n",
       "4  BU00030001       1      3015     1475     1540  ...       1,0       1,0   \n",
       "\n",
       "   g_3km_sc  a_opp_ha  a_lan_ha  a_wat_ha  pst_mvp  pst_dekp  ste_mvs  ste_oad  \n",
       "0      10,9   4154338   3367109    787228        .         .        2     2010  \n",
       "1       6,4      2458      2378        80        .         .        3     1066  \n",
       "2       6,4      2458      2378        80        .         .        3     1066  \n",
       "3       7,1        90        84         5     9901         1        3     1209  \n",
       "4       4,0       163       158         5     9903         6        4      902  \n",
       "\n",
       "[5 rows x 119 columns]"
      ]
     },
     "execution_count": 19,
     "metadata": {},
     "output_type": "execute_result"
    }
   ],
   "source": [
    "csb_data.head()"
   ]
  },
  {
   "cell_type": "code",
   "execution_count": 29,
   "metadata": {},
   "outputs": [],
   "source": [
    "csb_data_den_haag = csb_data[(csb_data[\"gm_naam\"] == \"'s-Gravenhage\") & (csb_data[\"recs\"] == \"Buurt\")]"
   ]
  },
  {
   "cell_type": "code",
   "execution_count": 30,
   "metadata": {},
   "outputs": [
    {
     "data": {
      "text/html": [
       "<div>\n",
       "<style scoped>\n",
       "    .dataframe tbody tr th:only-of-type {\n",
       "        vertical-align: middle;\n",
       "    }\n",
       "\n",
       "    .dataframe tbody tr th {\n",
       "        vertical-align: top;\n",
       "    }\n",
       "\n",
       "    .dataframe thead th {\n",
       "        text-align: right;\n",
       "    }\n",
       "</style>\n",
       "<table border=\"1\" class=\"dataframe\">\n",
       "  <thead>\n",
       "    <tr style=\"text-align: right;\">\n",
       "      <th></th>\n",
       "      <th>gwb_code_10</th>\n",
       "      <th>gwb_code_8</th>\n",
       "      <th>regio</th>\n",
       "      <th>gm_naam</th>\n",
       "      <th>recs</th>\n",
       "      <th>gwb_code</th>\n",
       "      <th>ind_wbi</th>\n",
       "      <th>a_inw</th>\n",
       "      <th>a_man</th>\n",
       "      <th>a_vrouw</th>\n",
       "      <th>...</th>\n",
       "      <th>g_afs_kv</th>\n",
       "      <th>g_afs_sc</th>\n",
       "      <th>g_3km_sc</th>\n",
       "      <th>a_opp_ha</th>\n",
       "      <th>a_lan_ha</th>\n",
       "      <th>a_wat_ha</th>\n",
       "      <th>pst_mvp</th>\n",
       "      <th>pst_dekp</th>\n",
       "      <th>ste_mvs</th>\n",
       "      <th>ste_oad</th>\n",
       "    </tr>\n",
       "  </thead>\n",
       "  <tbody>\n",
       "    <tr>\n",
       "      <th>7766</th>\n",
       "      <td>BU05180170</td>\n",
       "      <td>5180170</td>\n",
       "      <td>Oostduinen</td>\n",
       "      <td>'s-Gravenhage</td>\n",
       "      <td>Buurt</td>\n",
       "      <td>BU05180170</td>\n",
       "      <td>1</td>\n",
       "      <td>0</td>\n",
       "      <td>0</td>\n",
       "      <td>0</td>\n",
       "      <td>...</td>\n",
       "      <td>.</td>\n",
       "      <td>.</td>\n",
       "      <td>.</td>\n",
       "      <td>318</td>\n",
       "      <td>308</td>\n",
       "      <td>10</td>\n",
       "      <td>2597</td>\n",
       "      <td>5</td>\n",
       "      <td>4</td>\n",
       "      <td>683</td>\n",
       "    </tr>\n",
       "    <tr>\n",
       "      <th>7768</th>\n",
       "      <td>BU05180271</td>\n",
       "      <td>5180271</td>\n",
       "      <td>Belgisch Park</td>\n",
       "      <td>'s-Gravenhage</td>\n",
       "      <td>Buurt</td>\n",
       "      <td>BU05180271</td>\n",
       "      <td>1</td>\n",
       "      <td>8350</td>\n",
       "      <td>4095</td>\n",
       "      <td>4250</td>\n",
       "      <td>...</td>\n",
       "      <td>0,4</td>\n",
       "      <td>0,5</td>\n",
       "      <td>10,9</td>\n",
       "      <td>106</td>\n",
       "      <td>106</td>\n",
       "      <td>0</td>\n",
       "      <td>2587</td>\n",
       "      <td>2</td>\n",
       "      <td>2</td>\n",
       "      <td>2497</td>\n",
       "    </tr>\n",
       "    <tr>\n",
       "      <th>7770</th>\n",
       "      <td>BU05180373</td>\n",
       "      <td>5180373</td>\n",
       "      <td>Westbroekpark</td>\n",
       "      <td>'s-Gravenhage</td>\n",
       "      <td>Buurt</td>\n",
       "      <td>BU05180373</td>\n",
       "      <td>1</td>\n",
       "      <td>1070</td>\n",
       "      <td>475</td>\n",
       "      <td>590</td>\n",
       "      <td>...</td>\n",
       "      <td>0,7</td>\n",
       "      <td>0,7</td>\n",
       "      <td>18,5</td>\n",
       "      <td>46</td>\n",
       "      <td>41</td>\n",
       "      <td>5</td>\n",
       "      <td>2597</td>\n",
       "      <td>4</td>\n",
       "      <td>2</td>\n",
       "      <td>2402</td>\n",
       "    </tr>\n",
       "    <tr>\n",
       "      <th>7771</th>\n",
       "      <td>BU05180374</td>\n",
       "      <td>5180374</td>\n",
       "      <td>Duttendel</td>\n",
       "      <td>'s-Gravenhage</td>\n",
       "      <td>Buurt</td>\n",
       "      <td>BU05180374</td>\n",
       "      <td>1</td>\n",
       "      <td>1100</td>\n",
       "      <td>490</td>\n",
       "      <td>610</td>\n",
       "      <td>...</td>\n",
       "      <td>0,4</td>\n",
       "      <td>0,4</td>\n",
       "      <td>14,3</td>\n",
       "      <td>133</td>\n",
       "      <td>130</td>\n",
       "      <td>3</td>\n",
       "      <td>2597</td>\n",
       "      <td>1</td>\n",
       "      <td>3</td>\n",
       "      <td>1135</td>\n",
       "    </tr>\n",
       "    <tr>\n",
       "      <th>7773</th>\n",
       "      <td>BU05180448</td>\n",
       "      <td>5180448</td>\n",
       "      <td>Nassaubuurt</td>\n",
       "      <td>'s-Gravenhage</td>\n",
       "      <td>Buurt</td>\n",
       "      <td>BU05180448</td>\n",
       "      <td>1</td>\n",
       "      <td>1620</td>\n",
       "      <td>790</td>\n",
       "      <td>830</td>\n",
       "      <td>...</td>\n",
       "      <td>0,2</td>\n",
       "      <td>0,4</td>\n",
       "      <td>22,0</td>\n",
       "      <td>29</td>\n",
       "      <td>28</td>\n",
       "      <td>0</td>\n",
       "      <td>2596</td>\n",
       "      <td>1</td>\n",
       "      <td>1</td>\n",
       "      <td>3307</td>\n",
       "    </tr>\n",
       "  </tbody>\n",
       "</table>\n",
       "<p>5 rows × 119 columns</p>\n",
       "</div>"
      ],
      "text/plain": [
       "     gwb_code_10  gwb_code_8          regio        gm_naam   recs    gwb_code  \\\n",
       "7766  BU05180170     5180170     Oostduinen  's-Gravenhage  Buurt  BU05180170   \n",
       "7768  BU05180271     5180271  Belgisch Park  's-Gravenhage  Buurt  BU05180271   \n",
       "7770  BU05180373     5180373  Westbroekpark  's-Gravenhage  Buurt  BU05180373   \n",
       "7771  BU05180374     5180374      Duttendel  's-Gravenhage  Buurt  BU05180374   \n",
       "7773  BU05180448     5180448    Nassaubuurt  's-Gravenhage  Buurt  BU05180448   \n",
       "\n",
       "     ind_wbi  a_inw  a_man  a_vrouw  ...  g_afs_kv  g_afs_sc  g_3km_sc  \\\n",
       "7766       1      0      0        0  ...         .         .         .   \n",
       "7768       1   8350   4095     4250  ...       0,4       0,5      10,9   \n",
       "7770       1   1070    475      590  ...       0,7       0,7      18,5   \n",
       "7771       1   1100    490      610  ...       0,4       0,4      14,3   \n",
       "7773       1   1620    790      830  ...       0,2       0,4      22,0   \n",
       "\n",
       "      a_opp_ha  a_lan_ha  a_wat_ha  pst_mvp  pst_dekp  ste_mvs  ste_oad  \n",
       "7766       318       308        10     2597         5        4      683  \n",
       "7768       106       106         0     2587         2        2     2497  \n",
       "7770        46        41         5     2597         4        2     2402  \n",
       "7771       133       130         3     2597         1        3     1135  \n",
       "7773        29        28         0     2596         1        1     3307  \n",
       "\n",
       "[5 rows x 119 columns]"
      ]
     },
     "execution_count": 30,
     "metadata": {},
     "output_type": "execute_result"
    }
   ],
   "source": [
    "csb_data_den_haag.head()"
   ]
  },
  {
   "cell_type": "code",
   "execution_count": 31,
   "metadata": {},
   "outputs": [
    {
     "name": "stdout",
     "output_type": "stream",
     "text": [
      "<class 'pandas.core.frame.DataFrame'>\n",
      "Int64Index: 114 entries, 7766 to 7922\n",
      "Columns: 119 entries, gwb_code_10 to ste_oad\n",
      "dtypes: float64(33), int64(37), object(49)\n",
      "memory usage: 106.9+ KB\n"
     ]
    }
   ],
   "source": [
    "csb_data_den_haag.info()"
   ]
  },
  {
   "cell_type": "code",
   "execution_count": 40,
   "metadata": {},
   "outputs": [],
   "source": [
    "measures = ['a_inw','g_woz','a_opl_lg','bev_dich','regio']\n",
    "measure_dictionary = {\n",
    "    'a_inw':'Inhabitants'\n",
    "    ,'g_woz':'Real estate value',\n",
    "    'a_opl_lg' : 'Low Education',\n",
    "    'bev_dich':'Population density'\n",
    "}"
   ]
  },
  {
   "cell_type": "code",
   "execution_count": 41,
   "metadata": {},
   "outputs": [],
   "source": [
    "csb_data_den_haag_measures = csb_data_den_haag[measures]"
   ]
  },
  {
   "cell_type": "code",
   "execution_count": 42,
   "metadata": {},
   "outputs": [
    {
     "name": "stdout",
     "output_type": "stream",
     "text": [
      "<class 'pandas.core.frame.DataFrame'>\n",
      "Int64Index: 114 entries, 7766 to 7922\n",
      "Data columns (total 5 columns):\n",
      " #   Column    Non-Null Count  Dtype \n",
      "---  ------    --------------  ----- \n",
      " 0   a_inw     114 non-null    int64 \n",
      " 1   g_woz     114 non-null    object\n",
      " 2   a_opl_lg  114 non-null    object\n",
      " 3   bev_dich  114 non-null    object\n",
      " 4   regio     114 non-null    object\n",
      "dtypes: int64(1), object(4)\n",
      "memory usage: 5.3+ KB\n"
     ]
    }
   ],
   "source": [
    "csb_data_den_haag_measures.info()"
   ]
  },
  {
   "cell_type": "code",
   "execution_count": 43,
   "metadata": {},
   "outputs": [
    {
     "data": {
      "text/html": [
       "<div>\n",
       "<style scoped>\n",
       "    .dataframe tbody tr th:only-of-type {\n",
       "        vertical-align: middle;\n",
       "    }\n",
       "\n",
       "    .dataframe tbody tr th {\n",
       "        vertical-align: top;\n",
       "    }\n",
       "\n",
       "    .dataframe thead th {\n",
       "        text-align: right;\n",
       "    }\n",
       "</style>\n",
       "<table border=\"1\" class=\"dataframe\">\n",
       "  <thead>\n",
       "    <tr style=\"text-align: right;\">\n",
       "      <th></th>\n",
       "      <th>a_inw</th>\n",
       "      <th>g_woz</th>\n",
       "      <th>a_opl_lg</th>\n",
       "      <th>bev_dich</th>\n",
       "      <th>regio</th>\n",
       "    </tr>\n",
       "  </thead>\n",
       "  <tbody>\n",
       "    <tr>\n",
       "      <th>7766</th>\n",
       "      <td>0</td>\n",
       "      <td>.</td>\n",
       "      <td>.</td>\n",
       "      <td>.</td>\n",
       "      <td>Oostduinen</td>\n",
       "    </tr>\n",
       "    <tr>\n",
       "      <th>7814</th>\n",
       "      <td>105</td>\n",
       "      <td>106</td>\n",
       "      <td>.</td>\n",
       "      <td>133</td>\n",
       "      <td>Kerketuinen en Zichtenburg</td>\n",
       "    </tr>\n",
       "    <tr>\n",
       "      <th>7905</th>\n",
       "      <td>0</td>\n",
       "      <td>.</td>\n",
       "      <td>.</td>\n",
       "      <td>.</td>\n",
       "      <td>Vliegeniersbuurt</td>\n",
       "    </tr>\n",
       "    <tr>\n",
       "      <th>7906</th>\n",
       "      <td>170</td>\n",
       "      <td>324</td>\n",
       "      <td>.</td>\n",
       "      <td>336</td>\n",
       "      <td>De Reef</td>\n",
       "    </tr>\n",
       "    <tr>\n",
       "      <th>7909</th>\n",
       "      <td>0</td>\n",
       "      <td>.</td>\n",
       "      <td>.</td>\n",
       "      <td>.</td>\n",
       "      <td>Tedingerbuurt</td>\n",
       "    </tr>\n",
       "  </tbody>\n",
       "</table>\n",
       "</div>"
      ],
      "text/plain": [
       "      a_inw g_woz a_opl_lg bev_dich                       regio\n",
       "7766      0     .        .        .                  Oostduinen\n",
       "7814    105   106        .      133  Kerketuinen en Zichtenburg\n",
       "7905      0     .        .        .            Vliegeniersbuurt\n",
       "7906    170   324        .      336                     De Reef\n",
       "7909      0     .        .        .               Tedingerbuurt"
      ]
     },
     "execution_count": 43,
     "metadata": {},
     "output_type": "execute_result"
    }
   ],
   "source": [
    "csb_data_den_haag_measures[csb_data_den_haag_measures['a_opl_lg'] == '.']"
   ]
  },
  {
   "cell_type": "code",
   "execution_count": 46,
   "metadata": {},
   "outputs": [
    {
     "data": {
      "text/html": [
       "<div>\n",
       "<style scoped>\n",
       "    .dataframe tbody tr th:only-of-type {\n",
       "        vertical-align: middle;\n",
       "    }\n",
       "\n",
       "    .dataframe tbody tr th {\n",
       "        vertical-align: top;\n",
       "    }\n",
       "\n",
       "    .dataframe thead th {\n",
       "        text-align: right;\n",
       "    }\n",
       "</style>\n",
       "<table border=\"1\" class=\"dataframe\">\n",
       "  <thead>\n",
       "    <tr style=\"text-align: right;\">\n",
       "      <th></th>\n",
       "      <th>a_inw</th>\n",
       "      <th>g_woz</th>\n",
       "      <th>a_opl_lg</th>\n",
       "      <th>bev_dich</th>\n",
       "      <th>regio</th>\n",
       "    </tr>\n",
       "  </thead>\n",
       "  <tbody>\n",
       "  </tbody>\n",
       "</table>\n",
       "</div>"
      ],
      "text/plain": [
       "Empty DataFrame\n",
       "Columns: [a_inw, g_woz, a_opl_lg, bev_dich, regio]\n",
       "Index: []"
      ]
     },
     "execution_count": 46,
     "metadata": {},
     "output_type": "execute_result"
    }
   ],
   "source": [
    "csb_data_den_haag_measures=csb_data_den_haag_measures.replace('.',0)\n",
    "csb_data_den_haag_measures[csb_data_den_haag_measures['a_opl_lg'] == '.']"
   ]
  },
  {
   "cell_type": "code",
   "execution_count": 47,
   "metadata": {},
   "outputs": [],
   "source": [
    "csb_data_den_haag_measures['a_opl_lg'] = csb_data_den_haag_measures['a_opl_lg'].astype(float)\n",
    "csb_data_den_haag_measures['g_woz'] = csb_data_den_haag_measures['g_woz'].astype(float)\n",
    "csb_data_den_haag_measures['bev_dich'] = csb_data_den_haag_measures['bev_dich'].astype(float)"
   ]
  },
  {
   "cell_type": "code",
   "execution_count": 55,
   "metadata": {},
   "outputs": [],
   "source": [
    "def graph_distribution(data,measure):    \n",
    "    sns.set(color_codes=True)\n",
    "    f, ax = plt.subplots(1,1, figsize=(8, 3));\n",
    "    ax = sns.distplot(data[measure], kde=False, bins=20)\n"
   ]
  },
  {
   "cell_type": "code",
   "execution_count": 56,
   "metadata": {},
   "outputs": [
    {
     "name": "stderr",
     "output_type": "stream",
     "text": [
      "/Users/alex/opt/anaconda3/envs/gds/lib/python3.9/site-packages/seaborn/distributions.py:2619: FutureWarning: `distplot` is a deprecated function and will be removed in a future version. Please adapt your code to use either `displot` (a figure-level function with similar flexibility) or `histplot` (an axes-level function for histograms).\n",
      "  warnings.warn(msg, FutureWarning)\n"
     ]
    },
    {
     "data": {
      "image/png": "[encoded data removed]",
      "text/plain": [
       "<Figure size 800x300 with 1 Axes>"
      ]
     },
     "metadata": {},
     "output_type": "display_data"
    }
   ],
   "source": [
    "graph_distribution(csb_data_den_haag_measures,'a_inw')"
   ]
  }
 ],
 "metadata": {
  "kernelspec": {
   "display_name": "Python 3.9.13 ('gds')",
   "language": "python",
   "name": "python3"
  },
  "language_info": {
   "codemirror_mode": {
    "name": "ipython",
    "version": 3
   },
   "file_extension": ".py",
   "mimetype": "text/x-python",
   "name": "python",
   "nbconvert_exporter": "python",
   "pygments_lexer": "ipython3",
   "version": "3.9.13"
  },
  "vscode": {
   "interpreter": {
    "hash": "cc0f8570546888f8ce8bc6d01ace0f5b2aad11864bda16830580d8b55f2ba491"
   }
  }
 },
 "nbformat": 4,
 "nbformat_minor": 4
}
